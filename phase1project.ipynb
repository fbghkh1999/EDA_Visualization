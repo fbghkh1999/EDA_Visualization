{
  "nbformat": 4,
  "nbformat_minor": 0,
  "metadata": {
    "colab": {
      "name": "phase1project.ipynb",
      "provenance": [],
      "collapsed_sections": [],
      "authorship_tag": "ABX9TyMUZEDO8xCJGqvM64SvRn1m",
      "include_colab_link": true
    },
    "kernelspec": {
      "display_name": "Python 3",
      "name": "python3"
    },
    "language_info": {
      "name": "python"
    }
  },
  "cells": [
    {
      "cell_type": "markdown",
      "metadata": {
        "id": "view-in-github",
        "colab_type": "text"
      },
      "source": [
        "<a href=\"https://colab.research.google.com/github/fbghkh1999/data-projects/blob/main/phase1project.ipynb\" target=\"_parent\"><img src=\"https://colab.research.google.com/assets/colab-badge.svg\" alt=\"Open In Colab\"/></a>"
      ]
    },
    {
      "cell_type": "code",
      "metadata": {
        "id": "D2c4tfycCjyv"
      },
      "source": [
        "import pandas as pd\n",
        "import numpy as np\n",
        "from statistics import mode\n",
        "import matplotlib.pyplot as plt\n",
        "%matplotlib inline\n"
      ],
      "execution_count": null,
      "outputs": []
    },
    {
      "cell_type": "markdown",
      "metadata": {
        "id": "eV0gi16pqUGP"
      },
      "source": [
        "## soal1"
      ]
    },
    {
      "cell_type": "code",
      "metadata": {
        "id": "BD4rbNbvDzCn"
      },
      "source": [
        "divar=pd.read_csv('/content/divar_posts_dataset.csv',encoding='utf-8')"
      ],
      "execution_count": null,
      "outputs": []
    },
    {
      "cell_type": "code",
      "metadata": {
        "colab": {
          "base_uri": "https://localhost:8080/",
          "height": 934
        },
        "id": "Bkv1bWjxFfxR",
        "outputId": "074fdcd8-4e78-4658-bffa-ed290139ff2a"
      },
      "source": [
        "divar.head(10)"
      ],
      "execution_count": null,
      "outputs": [
        {
          "output_type": "execute_result",
          "data": {
            "text/html": [
              "<div>\n",
              "<style scoped>\n",
              "    .dataframe tbody tr th:only-of-type {\n",
              "        vertical-align: middle;\n",
              "    }\n",
              "\n",
              "    .dataframe tbody tr th {\n",
              "        vertical-align: top;\n",
              "    }\n",
              "\n",
              "    .dataframe thead th {\n",
              "        text-align: right;\n",
              "    }\n",
              "</style>\n",
              "<table border=\"1\" class=\"dataframe\">\n",
              "  <thead>\n",
              "    <tr style=\"text-align: right;\">\n",
              "      <th></th>\n",
              "      <th>Unnamed: 0</th>\n",
              "      <th>archive_by_user</th>\n",
              "      <th>brand</th>\n",
              "      <th>cat1</th>\n",
              "      <th>cat2</th>\n",
              "      <th>cat3</th>\n",
              "      <th>city</th>\n",
              "      <th>created_at</th>\n",
              "      <th>desc</th>\n",
              "      <th>id</th>\n",
              "      <th>image_count</th>\n",
              "      <th>mileage</th>\n",
              "      <th>platform</th>\n",
              "      <th>price</th>\n",
              "      <th>title</th>\n",
              "      <th>type</th>\n",
              "      <th>year</th>\n",
              "    </tr>\n",
              "  </thead>\n",
              "  <tbody>\n",
              "    <tr>\n",
              "      <th>0</th>\n",
              "      <td>0</td>\n",
              "      <td>False</td>\n",
              "      <td>NaN</td>\n",
              "      <td>for-the-home</td>\n",
              "      <td>furniture-and-home-decore</td>\n",
              "      <td>sofa-armchair</td>\n",
              "      <td>Tehran</td>\n",
              "      <td>Tuesday 07PM</td>\n",
              "      <td>کلاسیک و شیک و استثنایی\\nچرم مالزی\\nچوب راش\\nف...</td>\n",
              "      <td>5.476164e+13</td>\n",
              "      <td>5.0</td>\n",
              "      <td>NaN</td>\n",
              "      <td>mobile</td>\n",
              "      <td>3850000.0</td>\n",
              "      <td>ست مبلمان و نهارخوری ٩ نفره</td>\n",
              "      <td>NaN</td>\n",
              "      <td>NaN</td>\n",
              "    </tr>\n",
              "    <tr>\n",
              "      <th>1</th>\n",
              "      <td>1</td>\n",
              "      <td>False</td>\n",
              "      <td>NaN</td>\n",
              "      <td>for-the-home</td>\n",
              "      <td>furniture-and-home-decore</td>\n",
              "      <td>antiques-and-art</td>\n",
              "      <td>Mashhad</td>\n",
              "      <td>Tuesday 07PM</td>\n",
              "      <td>سلام,یک عدد گلدون نخل سه طبقه ی سالم دارم با پ...</td>\n",
              "      <td>4.272763e+13</td>\n",
              "      <td>1.0</td>\n",
              "      <td>NaN</td>\n",
              "      <td>mobile</td>\n",
              "      <td>30000.0</td>\n",
              "      <td>گلدون مصنوعی نخل</td>\n",
              "      <td>NaN</td>\n",
              "      <td>NaN</td>\n",
              "    </tr>\n",
              "    <tr>\n",
              "      <th>2</th>\n",
              "      <td>2</td>\n",
              "      <td>False</td>\n",
              "      <td>NaN</td>\n",
              "      <td>vehicles</td>\n",
              "      <td>cars</td>\n",
              "      <td>heavy</td>\n",
              "      <td>Mashhad</td>\n",
              "      <td>Tuesday 07PM</td>\n",
              "      <td>سریال 43j$NUMبدون شکستگی سه حلقه لاستیک نو یک ...</td>\n",
              "      <td>6.319444e+13</td>\n",
              "      <td>4.0</td>\n",
              "      <td>NaN</td>\n",
              "      <td>mobile</td>\n",
              "      <td>-1.0</td>\n",
              "      <td>لودر کاتر پیلار 950</td>\n",
              "      <td>NaN</td>\n",
              "      <td>NaN</td>\n",
              "    </tr>\n",
              "    <tr>\n",
              "      <th>3</th>\n",
              "      <td>3</td>\n",
              "      <td>False</td>\n",
              "      <td>NaN</td>\n",
              "      <td>for-the-home</td>\n",
              "      <td>furniture-and-home-decore</td>\n",
              "      <td>sofa-armchair</td>\n",
              "      <td>Tehran</td>\n",
              "      <td>Tuesday 07PM</td>\n",
              "      <td>مبل راحتی هفت نفره شامل سه نفره یک عدد دونفره ...</td>\n",
              "      <td>1.913303e+13</td>\n",
              "      <td>4.0</td>\n",
              "      <td>NaN</td>\n",
              "      <td>mobile</td>\n",
              "      <td>600000.0</td>\n",
              "      <td>مبل راحتی هفت نفره بامیز جلو مبلی</td>\n",
              "      <td>NaN</td>\n",
              "      <td>NaN</td>\n",
              "    </tr>\n",
              "    <tr>\n",
              "      <th>4</th>\n",
              "      <td>4</td>\n",
              "      <td>False</td>\n",
              "      <td>NaN</td>\n",
              "      <td>personal</td>\n",
              "      <td>baby-and-toys</td>\n",
              "      <td>personal-toys</td>\n",
              "      <td>Karaj</td>\n",
              "      <td>Tuesday 08PM</td>\n",
              "      <td>شارژی کنترلی سویچ حمل تا 35 کیلو صندلی برای دو...</td>\n",
              "      <td>5.899900e+13</td>\n",
              "      <td>2.0</td>\n",
              "      <td>NaN</td>\n",
              "      <td>mobile</td>\n",
              "      <td>450000.0</td>\n",
              "      <td>ماشین شارژی</td>\n",
              "      <td>NaN</td>\n",
              "      <td>NaN</td>\n",
              "    </tr>\n",
              "    <tr>\n",
              "      <th>5</th>\n",
              "      <td>5</td>\n",
              "      <td>False</td>\n",
              "      <td>NaN</td>\n",
              "      <td>for-the-home</td>\n",
              "      <td>furniture-and-home-decore</td>\n",
              "      <td>sofa-armchair</td>\n",
              "      <td>Tehran</td>\n",
              "      <td>Tuesday 09PM</td>\n",
              "      <td>بسیارتمیزوسالم وچوب راش فقط به علت جابه جایی و...</td>\n",
              "      <td>4.802905e+13</td>\n",
              "      <td>4.0</td>\n",
              "      <td>NaN</td>\n",
              "      <td>mobile</td>\n",
              "      <td>1000000.0</td>\n",
              "      <td>مبل استیل</td>\n",
              "      <td>NaN</td>\n",
              "      <td>NaN</td>\n",
              "    </tr>\n",
              "    <tr>\n",
              "      <th>6</th>\n",
              "      <td>6</td>\n",
              "      <td>False</td>\n",
              "      <td>NaN</td>\n",
              "      <td>vehicles</td>\n",
              "      <td>parts-accessories</td>\n",
              "      <td>NaN</td>\n",
              "      <td>Tehran</td>\n",
              "      <td>Tuesday 10PM</td>\n",
              "      <td>خازن ۳۰ فاراد . Q.PERTORS . تمیز 20 ولت</td>\n",
              "      <td>4.429783e+13</td>\n",
              "      <td>2.0</td>\n",
              "      <td>NaN</td>\n",
              "      <td>mobile</td>\n",
              "      <td>50000.0</td>\n",
              "      <td>خازن فروشی</td>\n",
              "      <td>NaN</td>\n",
              "      <td>NaN</td>\n",
              "    </tr>\n",
              "    <tr>\n",
              "      <th>7</th>\n",
              "      <td>7</td>\n",
              "      <td>False</td>\n",
              "      <td>NaN</td>\n",
              "      <td>for-the-home</td>\n",
              "      <td>utensils-and-appliances</td>\n",
              "      <td>cookware-tableware</td>\n",
              "      <td>Tehran</td>\n",
              "      <td>Wednesday 02AM</td>\n",
              "      <td>مولینکس فرانسه،اكبند ،١٢ نفره،جديد،با جعبه،sms...</td>\n",
              "      <td>5.786648e+13</td>\n",
              "      <td>2.0</td>\n",
              "      <td>NaN</td>\n",
              "      <td>mobile</td>\n",
              "      <td>180000.0</td>\n",
              "      <td>پلوپز،بخارپز اتوماتیک مولینکس</td>\n",
              "      <td>NaN</td>\n",
              "      <td>NaN</td>\n",
              "    </tr>\n",
              "    <tr>\n",
              "      <th>8</th>\n",
              "      <td>8</td>\n",
              "      <td>False</td>\n",
              "      <td>سایر</td>\n",
              "      <td>vehicles</td>\n",
              "      <td>cars</td>\n",
              "      <td>light</td>\n",
              "      <td>Tehran</td>\n",
              "      <td>Wednesday 04AM</td>\n",
              "      <td>دوگانه ال پی جی بیمه با تخفیف دارد \\nتودوزی نو...</td>\n",
              "      <td>5.987888e+13</td>\n",
              "      <td>3.0</td>\n",
              "      <td>180000.0</td>\n",
              "      <td>mobile</td>\n",
              "      <td>-1.0</td>\n",
              "      <td>پاترول شش سیلندر چهار درب</td>\n",
              "      <td>NaN</td>\n",
              "      <td>1366</td>\n",
              "    </tr>\n",
              "    <tr>\n",
              "      <th>9</th>\n",
              "      <td>9</td>\n",
              "      <td>False</td>\n",
              "      <td>NaN</td>\n",
              "      <td>for-the-home</td>\n",
              "      <td>utensils-and-appliances</td>\n",
              "      <td>cookware-tableware</td>\n",
              "      <td>Tehran</td>\n",
              "      <td>Wednesday 05AM</td>\n",
              "      <td>دیگ مسی کف ٥٧ دهنه ٤٣ ارتفاع ٢٧ سانتیمتر</td>\n",
              "      <td>5.904719e+13</td>\n",
              "      <td>1.0</td>\n",
              "      <td>NaN</td>\n",
              "      <td>mobile</td>\n",
              "      <td>300000.0</td>\n",
              "      <td>دیگ مسی ٤٠ ساله</td>\n",
              "      <td>NaN</td>\n",
              "      <td>NaN</td>\n",
              "    </tr>\n",
              "  </tbody>\n",
              "</table>\n",
              "</div>"
            ],
            "text/plain": [
              "   Unnamed: 0  archive_by_user  ... type  year\n",
              "0           0            False  ...  NaN   NaN\n",
              "1           1            False  ...  NaN   NaN\n",
              "2           2            False  ...  NaN   NaN\n",
              "3           3            False  ...  NaN   NaN\n",
              "4           4            False  ...  NaN   NaN\n",
              "5           5            False  ...  NaN   NaN\n",
              "6           6            False  ...  NaN   NaN\n",
              "7           7            False  ...  NaN   NaN\n",
              "8           8            False  ...  NaN  1366\n",
              "9           9            False  ...  NaN   NaN\n",
              "\n",
              "[10 rows x 17 columns]"
            ]
          },
          "metadata": {
            "tags": []
          },
          "execution_count": 3
        }
      ]
    },
    {
      "cell_type": "code",
      "metadata": {
        "colab": {
          "base_uri": "https://localhost:8080/",
          "height": 287
        },
        "id": "d6q9060UFtoC",
        "outputId": "84d4e923-3406-4344-ab95-9b46e899a82b"
      },
      "source": [
        "divar.describe()"
      ],
      "execution_count": null,
      "outputs": [
        {
          "output_type": "execute_result",
          "data": {
            "text/html": [
              "<div>\n",
              "<style scoped>\n",
              "    .dataframe tbody tr th:only-of-type {\n",
              "        vertical-align: middle;\n",
              "    }\n",
              "\n",
              "    .dataframe tbody tr th {\n",
              "        vertical-align: top;\n",
              "    }\n",
              "\n",
              "    .dataframe thead th {\n",
              "        text-align: right;\n",
              "    }\n",
              "</style>\n",
              "<table border=\"1\" class=\"dataframe\">\n",
              "  <thead>\n",
              "    <tr style=\"text-align: right;\">\n",
              "      <th></th>\n",
              "      <th>Unnamed: 0</th>\n",
              "      <th>id</th>\n",
              "      <th>image_count</th>\n",
              "      <th>mileage</th>\n",
              "      <th>price</th>\n",
              "    </tr>\n",
              "  </thead>\n",
              "  <tbody>\n",
              "    <tr>\n",
              "      <th>count</th>\n",
              "      <td>40996.000000</td>\n",
              "      <td>4.099500e+04</td>\n",
              "      <td>40995.000000</td>\n",
              "      <td>5264.000000</td>\n",
              "      <td>4.099500e+04</td>\n",
              "    </tr>\n",
              "    <tr>\n",
              "      <th>mean</th>\n",
              "      <td>20497.500000</td>\n",
              "      <td>3.355736e+13</td>\n",
              "      <td>1.781046</td>\n",
              "      <td>101571.836436</td>\n",
              "      <td>3.556509e+06</td>\n",
              "    </tr>\n",
              "    <tr>\n",
              "      <th>std</th>\n",
              "      <td>11834.670155</td>\n",
              "      <td>1.942435e+13</td>\n",
              "      <td>1.125083</td>\n",
              "      <td>98474.591645</td>\n",
              "      <td>1.456712e+07</td>\n",
              "    </tr>\n",
              "    <tr>\n",
              "      <th>min</th>\n",
              "      <td>0.000000</td>\n",
              "      <td>6.689338e+08</td>\n",
              "      <td>0.000000</td>\n",
              "      <td>0.000000</td>\n",
              "      <td>-1.000000e+00</td>\n",
              "    </tr>\n",
              "    <tr>\n",
              "      <th>25%</th>\n",
              "      <td>10248.750000</td>\n",
              "      <td>1.667432e+13</td>\n",
              "      <td>1.000000</td>\n",
              "      <td>19000.000000</td>\n",
              "      <td>3.000000e+04</td>\n",
              "    </tr>\n",
              "    <tr>\n",
              "      <th>50%</th>\n",
              "      <td>20497.500000</td>\n",
              "      <td>3.350189e+13</td>\n",
              "      <td>2.000000</td>\n",
              "      <td>75000.000000</td>\n",
              "      <td>1.500000e+05</td>\n",
              "    </tr>\n",
              "    <tr>\n",
              "      <th>75%</th>\n",
              "      <td>30746.250000</td>\n",
              "      <td>5.026632e+13</td>\n",
              "      <td>2.000000</td>\n",
              "      <td>160000.000000</td>\n",
              "      <td>6.400000e+05</td>\n",
              "    </tr>\n",
              "    <tr>\n",
              "      <th>max</th>\n",
              "      <td>40995.000000</td>\n",
              "      <td>6.728015e+13</td>\n",
              "      <td>12.000000</td>\n",
              "      <td>500000.000000</td>\n",
              "      <td>3.500000e+08</td>\n",
              "    </tr>\n",
              "  </tbody>\n",
              "</table>\n",
              "</div>"
            ],
            "text/plain": [
              "         Unnamed: 0            id   image_count        mileage         price\n",
              "count  40996.000000  4.099500e+04  40995.000000    5264.000000  4.099500e+04\n",
              "mean   20497.500000  3.355736e+13      1.781046  101571.836436  3.556509e+06\n",
              "std    11834.670155  1.942435e+13      1.125083   98474.591645  1.456712e+07\n",
              "min        0.000000  6.689338e+08      0.000000       0.000000 -1.000000e+00\n",
              "25%    10248.750000  1.667432e+13      1.000000   19000.000000  3.000000e+04\n",
              "50%    20497.500000  3.350189e+13      2.000000   75000.000000  1.500000e+05\n",
              "75%    30746.250000  5.026632e+13      2.000000  160000.000000  6.400000e+05\n",
              "max    40995.000000  6.728015e+13     12.000000  500000.000000  3.500000e+08"
            ]
          },
          "metadata": {
            "tags": []
          },
          "execution_count": 4
        }
      ]
    },
    {
      "cell_type": "code",
      "metadata": {
        "colab": {
          "base_uri": "https://localhost:8080/"
        },
        "id": "gefeQkTSL87k",
        "outputId": "a6907034-2dda-431c-e52b-0c2f08937287"
      },
      "source": [
        "divar.info()"
      ],
      "execution_count": null,
      "outputs": [
        {
          "output_type": "stream",
          "text": [
            "<class 'pandas.core.frame.DataFrame'>\n",
            "RangeIndex: 40996 entries, 0 to 40995\n",
            "Data columns (total 17 columns):\n",
            " #   Column           Non-Null Count  Dtype  \n",
            "---  ------           --------------  -----  \n",
            " 0   Unnamed: 0       40996 non-null  int64  \n",
            " 1   archive_by_user  40996 non-null  bool   \n",
            " 2   brand            8334 non-null   object \n",
            " 3   cat1             40996 non-null  object \n",
            " 4   cat2             40908 non-null  object \n",
            " 5   cat3             33430 non-null  object \n",
            " 6   city             40996 non-null  object \n",
            " 7   created_at       40996 non-null  object \n",
            " 8   desc             40996 non-null  object \n",
            " 9   id               40995 non-null  float64\n",
            " 10  image_count      40995 non-null  float64\n",
            " 11  mileage          5264 non-null   float64\n",
            " 12  platform         40995 non-null  object \n",
            " 13  price            40995 non-null  float64\n",
            " 14  title            40995 non-null  object \n",
            " 15  type             4281 non-null   object \n",
            " 16  year             5264 non-null   object \n",
            "dtypes: bool(1), float64(4), int64(1), object(11)\n",
            "memory usage: 5.0+ MB\n"
          ],
          "name": "stdout"
        }
      ]
    },
    {
      "cell_type": "code",
      "metadata": {
        "colab": {
          "base_uri": "https://localhost:8080/"
        },
        "id": "NmhCHuTNHGvc",
        "outputId": "62fe1599-3eec-4e00-f2ea-39069b769c8f"
      },
      "source": [
        "divar['Unnamed: 0'].mean()\n",
        "divar['Unnamed: 0'].median()\n",
        "divar.id.max()-divar.id.min()\n",
        "divar.id.mean()\n",
        "divar.id.median()\n",
        "\n"
      ],
      "execution_count": null,
      "outputs": [
        {
          "output_type": "execute_result",
          "data": {
            "text/plain": [
              "33501886715383.0"
            ]
          },
          "metadata": {
            "tags": []
          },
          "execution_count": 31
        }
      ]
    },
    {
      "cell_type": "code",
      "metadata": {
        "colab": {
          "base_uri": "https://localhost:8080/"
        },
        "id": "esjWGXh0JbnL",
        "outputId": "66d5ba1f-d319-4f3f-fd77-3ddb29770a6a"
      },
      "source": [
        "# mode (divar['Unnamed: 0'])\n",
        "#mode(divar['id'])\n",
        "mode(divar.image_count)\n",
        "# mode(divar.mileage)\n",
        "mode(divar.platform)\n",
        "mode(divar.title)\n",
        "mode(divar.type)\n",
        "mode(divar.year)"
      ],
      "execution_count": null,
      "outputs": [
        {
          "output_type": "execute_result",
          "data": {
            "text/plain": [
              "nan"
            ]
          },
          "metadata": {
            "tags": []
          },
          "execution_count": 41
        }
      ]
    },
    {
      "cell_type": "code",
      "metadata": {
        "colab": {
          "base_uri": "https://localhost:8080/"
        },
        "id": "wdDzIMP0LfAu",
        "outputId": "b5e5a801-f64b-4451-ddf1-646bc09cd88d"
      },
      "source": [
        "mode(divar.price)\n",
        "mode(divar.archive_by_user)\n",
        "mode(divar.brand)\n",
        "mode(divar.cat1)\n",
        "mode(divar.cat2)\n",
        "mode(divar.cat3)\n",
        "mode(divar.city)\n",
        "mode(divar.created_at)\n",
        "mode(divar.desc)\n",
        "\n",
        "mode(divar.price)\n"
      ],
      "execution_count": null,
      "outputs": [
        {
          "output_type": "execute_result",
          "data": {
            "text/plain": [
              "-1.0"
            ]
          },
          "metadata": {
            "tags": []
          },
          "execution_count": 36
        }
      ]
    },
    {
      "cell_type": "code",
      "metadata": {
        "colab": {
          "base_uri": "https://localhost:8080/"
        },
        "id": "LrmTq67lnXTf",
        "outputId": "81420a73-d376-4b76-e2ac-b52e1bfcdfb2"
      },
      "source": [
        "#baze maghadir\n",
        "divar['Unnamed: 0'].max()-divar['Unnamed: 0'].min()\n",
        "divar['Unnamed: 0'].max()\n",
        "divar['Unnamed: 0'].mean()\n",
        "#dadepart(1.5*(IQ3-IQ1))\n",
        "1.5*(30746.25-10248.75)\n",
        "#feature2\n",
        "mode(divar.archive_by_user)\n",
        "1.5*(5.026632e+13-1.667432e+13)\n",
        "1.5*(2.000000-1.000000)\n",
        "1.5*(160000.000000-19000.000000\t)\n",
        "divar.price.max()-divar.price.min()\n",
        "1.5*(6.400000e+05-3.000000e+04)\n"
      ],
      "execution_count": null,
      "outputs": [
        {
          "output_type": "execute_result",
          "data": {
            "text/plain": [
              "915000.0"
            ]
          },
          "metadata": {
            "tags": []
          },
          "execution_count": 38
        }
      ]
    },
    {
      "cell_type": "code",
      "metadata": {
        "id": "uTL89d_hl5_7"
      },
      "source": [
        "##اطلاعات جدول"
      ],
      "execution_count": null,
      "outputs": []
    },
    {
      "cell_type": "code",
      "metadata": {
        "id": "1yEjcDCWm7Mt"
      },
      "source": [
        ""
      ],
      "execution_count": null,
      "outputs": []
    },
    {
      "cell_type": "markdown",
      "metadata": {
        "id": "6nLaZOks-8GG"
      },
      "source": [
        "![table.png](data:image/png;base64,iVBORw0KGgoAAAANSUhEUgAAAkIAAAJeCAIAAADX0f23AAAAAXNSR0IArs4c6QAAAARnQU1BAACxjwv8YQUAAAAJcEhZcwAADsMAAA7DAcdvqGQAAHHSSURBVHhe7b3fq2zbct+3/wRDHoU57H8g1/lhmbvzkPtkHTDrWScG44sFSweBTm4cOhJypEf5kl93hQSSLPIgSMIBCSIR0IagBVGkhMQPyrmQl8TLWt6KrB+R7LttnOBYcXRS48ecc8w5q6qru6t7/FjfD33OHmuMOWtWfbtqVs9eq2e/+RoAAADoFrGNvQEAAADaIHcmDq2N5VGfwP/L6V1DFiSGL9DTwpClpOMbsm5NXEN21qUF/3vXkAWJ4Qv0tDBkKen4hqxbE9eQnXVpwf/eNWRBYvgCPS0MWUo6viHr1sS1W+n+/PDu/n0e73h+f//m3f27N+8envOMmRv5T+6f4ZyBa/l/isO3yoGb0ntQrfl/E3/Us8Rl3EbPSs/aFXU7im/IujVx7Wa6X6kP2Pynp5k23DiQJm1P/9wVwk6egQj++zlsQPDByMWuXofLgiIqx3WK/8dcDUNzNgic4o8BconOvDuXrnSWIC71P7zSPu6as0pmjuhmc/48fEPWrYlrV9Cd1+z9vSpkLDp2N/JQOW3Y/I9Fc79+qsny/T39594VTkLw/6YOX5YDF7t6HS5O7MpxneL/LVw9T0/yjMra7sSRs8QFXJwPJm5zlD3X0+0oviHr1sQ1oxOUjkouPj/c35cqPpOq281VoaP5UHjbY4ST8YNWjDb/Q50/vKeSWgzFoxWHpGFm2SYWYaA4SUy7zGtE3iMsPUzTixUV2jKPVpzk8LIR5zAfWgkt5NE5nKWtk3oKZCSPzuRYXLsQwkQRy4URkNU8Os7Rp2A1OE/kU/xZCJ7d0+Hu96Ufnd5OHz0db081Zmz+xydV0MVy6PNUskP6hGdudyF7Pd2OYgyZfbr36NbENbsTdK2Uf9gTfczjxE7X9/dK1cT9H/ZPRdyJFuVdbf5nDZezy2Yi/xiZN6LJ6fqQ5orhxpt552WrYtcjCP5v/NtNlAcI4+3kypVpQ8b3iDEHBDae7SaOODAvr1w2qqdwWVDEsbgW5hCC47TGRHk6p/h/1NVycKbI5+n5EM+dkz5rgi9bndSzRCSGlsenYPKfzlp0CSvJYjj0xVmnQ5IF58JlwvqceD3djmINmXu69+jWxDWz7llBHur1UaO5eQWh11vvJtYwVfUcXl++oxeP2p42/+NzSDamIIp/o7JB4oJ0vGkxMBkoZ8udJivTDsv2R6B982iFweHZt6hd+KmcnB2gyRLOK5rOo3MwuFoyOVBOb0Myq6dAZvPoTI7FxYSQngpe5FMhM3l0nKOu7gcni3yKPzPpcHSk6aBr9h4cOUsQ06nmVCz+J0fFV82GQ5+lkp3n5ekjpQo3r6fbUewhWxJOtyaumZ0IpZHfjGDIkobGs5pYSAUuktpV/iFDNsJeUlZFaLM80phLNkTxEP4wMvubB/NESTk5Gyh3yTPBx62VZfsjCP4fcXg+ZGT6qTj+ysCyJY9NQ4kjrvIOpG3DaA6l2G42eQGXBUUY4tqGECeJi50nTvH/mKvM4GSRz9OTlAl6TMfcsD/5BimPoJ4OZGjPPJI5dvTjh6aN8ugqbBxc3Lmebkch03l0jOO99pg1cc3qRJH/TWHzfynZ/HznWKaowuxO4mKStiuGcZdZkGhxPVUe8AiC/8v+0bzqcHBuOxnm0rDcUkDwwcgprs7MUsV94nCeKk2ez2VBEcfi4kMIu+R/LuMU/4+5ygzKnUyc4o+N4OvkzPUx+09une+Vv0ol4dm7yhXVJVhDtj3dujVxzeJEusa6Xcadgk3EomSDmnP5FlVNw5lpLmybJ+ZXEvMuy+L0B2HnnCNo/zxacZLDy5E4h/nQSmg6j87hJFdnBxZPL1FPgUzn0ZkcjWsbAi3kjVbbn8kp/h91dT9Y7WThFH+OE39hwGfjlbD4/0wXsuTWBV75qrQlZlgeN4NJWPPTrVsT17TdwtupqVLfiX/lQsq+eUdb3TAhV+hht08L/veuIQsSwxcnf8I5hUwR8jlFJPRo5sNmJnT/6TQ7uXWyVyX6US7m2eM63xk15JOfbtWaw+/GGgX+X07vGrIgMXyBnhaufZTwF4k9tbGT0a2Ja8jOurTgf+8asiAxfIGeFoYsJR3fkHVr4hqysy4t+N+7hixIDF+gp4XbHOV9+G1PK78k8w1ZtyauITvr0oL/vWvIgsTwBXpauPZRwt9KvAt/O79+ZzH+7UelNxt9Q9atiWvIzrq04H/vGrIgMXy5vj/P2l+6hw/DnfklGInb6Hndo8SPMD8/Uy8rr8aSNMXN526Lb8i6NXHNx4mLk+xsbpOd16MF/3vXkAWJ4csN/DntEwAnchs9r32U+Mfj7x5a+jMP35B1a+LabZ7d6wH/L6d3DVmQGL64+sO/CXbkLg/hz+353ci3ox/4uY2e1z0KL1tlbCFbXdetiWv+uq+TUX2nILy4uPC+y7fJzuvRgv+9a8iCxPDF4o9S7NtKDx803m6rtrFom06GuwOEazj1SzASJ+k5fdyJrnvyjJErP2vRL9Jhp9KJp9lnU+e3YQ2Ze8b36NbEtQt1f37YPdGkaPFXNPQTJUP+Yc964zO4ct5cnRb8711DFiSGLxZ/tGLfV/qua13pSzASp+gZT7hiQ9W4wbMWf4GzVUFTntiIH+Kjfsh8e84ZnBCy+joloVsT1y7UPcizU5SczeOAejm53fhkbpA3V6UF/3vXkAWJ4YvNH7nYp0qfT2Xh1fl60yNnuXSqXm1g+hKMxEl6xqueyImXLCcd5Wy4pn3CaTbqbOj8No6GrDzje3Rr4tqFuqd7Za3ZyBP03W80camWZCKP+qQF/3vXkAWJ4YvNH6XYc6UvZ4xd6Yc+pXDul2AkaOM8MkBhUFM444LspKNwPN/PN/+lk36MkYHpBiecZqen4GhPMUGG8khAecb30FZ5xCGu6bs5QPIed/58ru7/lWnB/941ZEFi+GLy58rFfgkn6BnfgjvvDH/ps1ZcrwQn7I30ZOVvdzV2Ero1cc3XiQ2pD181sa/q/w1owf/eNWRBYvhy1J8bFPslnKDnBc340mdt9bZbfMvU4MnJyod3927+Jx42dGvimq8TmfBWbLqQlO9rHH9TSWpeeGV7Ff9vSAv+964hCxLDF9Gfo8VOhV71SzASJ+gZ36acr4TCh43Nrp9wFJag1fTXJeHXV+oVk+U0uxafGl7awekNxQAZyyMPdGvimq8TJ8H+yc2pVPTfhRb8711DFiSGL69Kz3S5kqBOYj9H0fZ5dC7LkU96U7Ee5GkeeaBbE9d8nbg98P9yeteQBYnhC/S0MGQp6fiGrFsT15CddWnB/941ZEFi+AI9LQxZSjq+IevWxDVkZ11a8L93DVmQGL5ATwtDlpKOb8i6NXEN2VmXFvzvXUMWJIYv0NPCkKWk4xuybk1cQ3bWpQX/e9eQBYnhC/S0MGQp6fiGrFsT15CddWnB/941ZEFi+AI9LQxZSjq+IevWxDVkZ11a8L93DVmQGL5ATwtDlpKOb8i6NXEN2VmXFvzvXUMWJIYv0NPCkKWkc1LIz8e+mUu3Jq4hO+vSgv+9a8iCxPAFeloYspR0Tgs53q8yjzl0a+IasrMuLfjfu4YsSAxfoKeFIUtJ57SQ118Zs0e3Jq4hO+vSgv+9a8iCxPAFeloYspR0xJDDrSn3HLmvPm2RRxzimr5b+8D/y+ldQxYkhi/Q08KQpaTjG7JuTVxDdtalBf9715AFieEL9LQwZCnp+IasWxPXkJ11acH/3jVkQWL4Aj0tDFlKOtaQbd/Xo1sT15CddWnB/941ZEFi+AI9LQxZSjq+IevWxDVkZ11a8L93DVmQGL5ATwtDlpKOb8i6NXEN2VmXFvzvXUMWJIYv0NPCkKWk4xuybk1cQ3bWpQX/e9eQBYnhC/S0MGQp6fiGrFsT15CddWnB/941ZEFi+AI9LQxZSjr2kMMdPO7fa7eiOmZNXEN21qUF/3vXkAWJ4Qv0tDBkKen4hqxbE9eQnXVpwf/eNWRBYvgCPS0MWUo69pDTbT3wB/cM8P9yeteQBYnhC/S0MGQp6ZhDfn9//z50MrWP6dbENWRnXVrwv3cNWZAYvkBPC0OWko4S8sP9/fKbsOfw+ecAbg28B/5fTu8asiAxfIGeFoYsJR0x5PgXHc+bv+gIk2hjO+D/5fSuIQsSwxfoaWHIUtKRQw5fykKra3CHew74fzm9a8iCxPAFeloYspR0fEPWrYlryM66tOB/7xqyIDF8gZ4WhiwlHd+QdWviGrKzLi3437uGLEgMX6CnhSFLScc3ZN2auIbsrEsL/veuIQsSwxfoaWHIUtLxDVm3Jq4hO+vSgv+9a8iCxPAFeloYspR0fEPWrYlrtBsAAADQArkzcWhtLI/65Gz/P9QgH7ugBf17zwGWV5vYVwJ6WhiylHR8Q9atiWuvNjs/fPjN7/7I28SPfPc3U5uZp+aZRJj//Ms0/vLztEneZrGSmDZLzBsTtJKPXdCC/r3nAMurTewrAT0tDFlKOr4h69bEtVebnUtnCqPYklZTRSNLnSqtUF/KK8vWE7S2ntjYGe9q7OlwFzv03eHpJU8RT49xmibzxMTTgWYf8w/ES97/7vCYd395TAYTOwMLxYb8Vu7Cbp1nw9xHRHCTt/f/Qnz9ubGYxG30FI4Sws3uFcO8eDPSoe8KMQ1Mem+emwVfYXVr4tptnt3rcbb/ubEEcrMpe04xjsPv5g4lbBNYGtzCl5+vp/KxC1rQ/1wfXg5T+3p6XHL86TANl1GE6uGRTlbLyYsmpvb39JS2pBPStE8xZNBXCWdhGeeZMJmIhMlb+38xnv7cXEziNnqKR6EWMvePcnxjTj00KTs13NAEuX19hdWtiWvKbuFuxO8epntivb8vfmiHs0XMjYWY2tGqLU1XVnlyvtBaX40tV1+bnpaIm2Tiaj52gW8SnMflPpTnkcfDdHpanV3Cqesl/j9PxKl0Sgqv+HbnIdpZqbfbtgHGeTZMNiJ28rb+H2O6a2u4b6tQ47SWR5dCKtxaTMLPfw3xKEwbI6/pvHB3mK4uYwTs5DwfSXbKibu0cZh/eSwunvLxgmh5jrac3cg2ip/3hC0W6dltTxI2JprWR3Rr4pq629LIliYmtbOX+W2BMtTdewWF+sQm+VLDzz8kQrbGTTfzEyeJWFJ0mtyLVp0o9a15am5jcRhZLtEItovFTfMWqf3lYxec7b8jl/pQnFDiczj9QM/1UgKpAsK/aSYwPbl3B6qvzfN+5My05FFRriWOwnLO82HyEXGTt/T/CMXL1fUr1xVe/lQRk7iNnuJRyh6wjGmUhyGEHDg7uTDvHVcfSY9wHg3/hEvcOA6bhdW4XRrEyTDMOxspPZgPvMYsbGhh9++l/pHRrYlrR5wIeb37lpjwI7G6x+Mj5VSUioKdlWfeKyBdprliGKH8XL/VEKfoWdFkN4u4JfSWoocRZStK47BesmwbKLYvdxWIjTAfu+Bs/x25xAd69bd63RKvonZPcCi1GaYWtqmwn5ARNvUTlneeC7PgwskbJsa6uMWzjJM/dcQkbqOneBRybI526QfLiNan8yY7uVxlEWk5r+bNwz/pqqwg7LyYI1Y/GCg8kPY9UdgqbSz1UP4rO+PKzqXYefJYeH8pQ1OFKKGJbd5qoKfuqORH/ZfY9LDAMpOuneJkIjah1aDcRuhixRHCkDbJxy44239HzvWhaGHp2cvDPMk956vndyK8wN5sKZ6NMrRHPiA5MRdayRWEXTmvhslEtJ6s4j8PtbGiiK/dxmZuKiZxGz3lo8Qm8ERekufz21BLZyj6BTMZBsVcGubVvHn4J7wVma8mFsp9w6Hz2EbYOfsl7XuisFXbGHPkdE1WLoRA52eIoJ+nH0iOZT6ynqFMjAqFf9MMQT/k94jDmwV5csNR/yWoCxXkLhS6TfnzzNK9wjAxTaxWI8vPy1HiRD52wdn+l+TL4/hsWMZ5twmazKOTiCk+U2T4y/S2z+4ZX2+Z8oVeRDKVt953m1kEnbHU1DgzKImd82yYbER8mDf2X4YSo0iJm7Sxm4tJ3EZP7SiTk3dLy44+U15Pw2W0mqRtn+Z9wxuHNPk4rR7Cz+n9RPon/xYnQiKlA+Wdp61m3eMRiieBY97ZKVGrtLF00HAK3L2pKDhD0szCLGcjml2LsJ7IyZkodo/PZhwvf5a05kQRF2KXuTX52AVn++9ICz6403tQN/N/XdxU8Nw7L9DTxpClpHNiyBXa2JLhy4h1I7Ts3HBCG5salPJewW4iQXaKN52i1Th6eXxEG7sWLfjgTu9B3c7/UNu5pIvhFuhpYchS0jkx5Ju3sd3LNOF1WoJaTr6YKvuT/P7SvovRZDJQXOVOVvmmR5ydN7mx3JZ87IIW8r4FH9zpPahb+h8qPSOWOK3lUZ/cxv/eVToDc8hFlhFnvVoS1/Td2gf+X07vGrIgMXyBnhaGLCUd35B1a+IasrMuLfjfu4YsSAxfoKeFIUtJxzdk3Zq4huysSwv+964hCxLDl8H1fBL/Uv8khiwlHd+QdWvi2uDZ2Twt+N+7hixIDF+gZ4D9pX7BkKWk4xuybk1cQ3bWpQX/e9eQBYnhy8B65o/7FP0pztzdzX+flj/0U34siL94G7KUdHxD1q2Jaw3pXvxV4vynitNfLxL8q6De86YF/3vXkAWJ4cvgeu4us+jEcxc/5BM+tTz/7TSuxnb4hqxbE9ea0f1l/uRZ+a0fx9Km+7xpwf/eNWRBYvgyuJ5MG5t+ppfXaGMyviHr1sS1BnUvUwVt7Ab0riELEsOXwfU8oY2F+zO80Gvtt+UtYTNDlpKOb8i6NXGtOd0paYp8orTJ7ynS7D5r+s+bFvzvXUMWJIYvw+q5nGIi8S5CeS6MN784C+0rMN0YccOQpaTjG7JuTVxrSveX3bd+LOxeLiV6z5sW/O9dQxYkhi/Q08KQpaTjG7JuTVxrRveihS1X8TTKQ1pm/8ij97xpwf/eNWRBYvgCPS0MWUo6viHr1sS1Wrqna/WlMa0v7cs3o/W7KvaeNy3437uGLEgMX6CnhSFLScc3ZN2auIbsrEsL/veuIQsSwxfoaWHIUtLxDVm3Jq4hO+vSgv+9a8iCxPAFeloYspR0fEPWrYlryM66tOB/7xqyIDF8gZ4WhiwlHd+QdWviGrKzLi3437uGLEgMX16dnsVX/+eZSPil/nqmZMhS0vENWbcmrr267GyMFvzvXUMWJIYvr0zP+PHVl92Hf8IfUT/Sf/nHHUOWko5vyLo1ce2VZWdztOB/7xqyIDF8eVV6vjyyn19NnwQK/88TO4YsJR3fkHVr4tqrys4GacH/3jVkQWL48qr0DNdiuw/6pCaW/k0ze4YsJR3fkHVr4tqrys4GacH/3jVkQWL48qr0DB9inb+e5Sn1sdXXtCwfbF0zZCnp+IasWxPXXlV2NkgL/veuIQsSw5fXpWe4HEvd6+Uxfl1LAa7GVviGrFsT115XdrZHC/73riELEsOX16YnNat03bW6e9B0syFcjc34hqxbE9deW3a2Rgv+964hCxLDF+hpYchS0vENWbcmriE769KC/71ryILE8AV6WhiylHR8Q9atiWvIzrq04H/vGrIgMXyBnhaGLCUd35B1a+IasrMuLfjfu4YsSAxfoKeFIUtJxzdk3Zq4huysSwv+964hCxLDF+hpYchS0vENWbcmriE769KC/71ryILE8AV6WhiylHR8Q9atiWvIzrq04H/vGrIgMXyBnhaGLCUd35B1a+IasrMuLfjfu4YsSAxfoKeFIUtJxzdk3Zq4huysSwv+964hCxLDF+hpYchS0vENWbcmriE769KC/71ryILE8AV6WhiylHR8Q9atiWvIzrq04H/vGrIgMXyBnhaGLCUd35B1a+IasrMuLfjfu4YsSAxfoKeFIUtJxzdk3Zq4huysSwv+964hCxLDF+hpYchS0vENWbcmriE769KC/71ryILE8AV6WhiylHR8Q9atiWvIzrq04H/vGrIgMXyBnhaGLCUd35B1a+IasrMuLfjfu4YsSAxfoKeFIUtJxzdk3Zq4huysSwv+964hCxLDF+hpYchS0vENWbcmriE769KC/71ryILE8AV6WhiylHR8Q9atiWu0GwAAANACuTNxaG0sj/rk9v5/uIBsoqAF/XvPARYkti/Q08LuKH864mOFr7C6NXEN2XkquSOdRTZR0IL+vecACxLbF+hpYXeUTQMY47HCV1jdmriG7DyV3JHOIpsosPj/8nj3dsXhKa/40HsOsCCxfRlVz1Bbd4/5h4vZHWXTAMZ4rPBNDN2auDZqdl6P3JHOIpsosPhPbSw0rvzP0wFtzAAS25dx9Xw6oI2d9ljhmxi6NXFt3Oy8FrkjnUU2UXCC/7mNzVA/C1dmj4+HcLE2tbh8rRZHd48vadOXtE3Yapoq6D0HWJDYvoyrJ7Wxw1wfc3m80HScuyuqjp0s2R2lPPv/6j0t3//qMvP+fvVjSw9yjXx9v5uPjxX2xHh+eEcbB949POe5LbSYRxzimr5b+9ze/9yRziKbKDjB/20bCzzehf5VdqZlo/AqM66EOs3bhDrcNbIKObB5nzS9HL5wck1/Qa1prTCv6M+FuhnEJGT/wyu+XB+hPA5hRDaXWns6HKYD7SfX7I6ybgDP33vXat/aPx7e+bax9/e5e4V2JjUy3Zq4dsXsvAm39//Lz3O9fP7lh1PH2UTBCf6vqiizn9q3sU2Z7+u89xxgQWL7Mq6eoU7ycC6aqXYSuabYyTW7o4Tz/vPDN2n+zZtv3t/fz20sXu6sLs6KmXjdli9a/vSZzv/px/tffc4bpw3uHx7ikthvTtl32vLNu++Rl7QxtbH7++g5bfOcDcbHClrPIzMUKdrYitv7ny+sziKbKDjBf3MbC7X2EppXrrq441J/O3rPARYkti/j6rlcjb08UdHsrsboEm1/NTZPrtkdJb5z+O57sYVQT1n1rf3F2fv7bz6khpEvXdJmz6kDPcyr6Ue6plmak/Cw7vuroXWlDcirN6mNTX304ZuLM+Gx4vTEULrYEWvimm92zu9+kpvXGOfDFNB8Ht2K3JHOIpsoMPqffg8WmV4Rhj61sNRXnr47HOZflMU3S+JsmC9eUSZur+EN6D2o6/nfS6H5IvkfymX+3VhRHEvJFK8U2cmS3VFCD7h/PzWATd/av8f4/v4+Ngz6d77Aot4WnpXAphWJF2Hzw7ov927nsk3ZU8NjBZnOIxtaEztmTVw71YnWuL3/uSOdRTZR0IL+vecACxLbF+hpYXeU067G4muM7z2X8zSedn94d2IbO2HfcDW2fufwKm0svFQiqzK6NXEN2XkquSOdRTZR0IL+vecACxLbF+hpYXuUjz+gR/rd2J958+e/8+1v0wVvaAm/9fN/kaYif4YeP/zzuUN8/MFv/80//+5dvICL+6Yzf9zm2/GXV/e/RpO/9fPpwjnM01S62vv4g1/7dpg8b9+vfyn4lub/4rd//iH+Ai049vEX4/DNd34p2Ty/jcUurvUwQrcmrtmdaJPb+5870llkEwUt6N97DrAgsX2Bnha2R/nqf/n6W9/KTYUGvY8pnLPbWGipBcIbi7SSRxzimr5b+8D/y+ldQxYkhi/Q08LuKH+aO1nqAb2PQw87/2rMgm5NXEN21qUF/3vXkAWJ4Qv0tLA7Sjzvp2Ywxjg8VvgKq1sT15CddWnB/941ZEFi+AI9818L83+imNkdZT71j/RY4ZsYujVxDdlZlxb8711DFiSGL9AzUH50jGN3lE0DGOOxwjcxdGviGrKzLi3437uGLEgMX6BnAG0sPFb4JoZuTVxDdtalBf9715AFieEL9AygjYXHCt/E0K2Ja8jOurTgf+8asiAxfIGeAbSx8Fjhmxi6NXEN2VmXFvzvXUMWJIYv0DOANhYeK3wTQ7cmriE769KC/71ryILE8OW160kNLP6hYsb6dTDTqf+951eLhQ8Sv/veZvKGjxW+iaFbE9dee3bWpgX/e9eQBYnhC/S0sDvKpgF4PX71Hm2sBNlZlxb8711DFiSGL9DTwu4o4bwf7iVIFFdjxcz6q8XSd4DRj/fplr7SI9zJ9yHfvT7e8/f5e3HHcDPfZHx9M9/lEVfjPX/jaNls/mayd99MNyaWnVlBG+SRB7o1cc3XidsD/y+ndw1ZkBi+QE8Lu6NMp/7dzeyZrxajwfQdYOHrLoU+FB+h+d2/jxs8x68Ko0H4cpdpVb1WY29dv7kFvurMCl9hdWviGrKzLi3437uGLEgMX6Cnhd1RplP/ro2FrhN7w/zVYtOXRE9orWjVqKaO+EyT1HhW33DGPdg2Nn9PdPquZ9WZFbSYRx7o1sQ1XyduD/y/nN41ZEFi+AI9LeyOMp36920s3PJ999ViR7/NOT+Wq7Hn9/nLmsM4NLDQ4XQj1Mbi+5DhnvP7a77nh/jXKJozK3yF1a2Ja8jOurTgf+8asiAxfIGeFrZH+bj9fq98WRO/+oS6zrt33yy+x+tPf/uXvj19D9k3v/M3f2ueT9vP4//kh8M108P9N4PNH/52fjMwbPNbsb1tt9+M05VW+v4zGsTtf/E7P/zn0+UYGfy13wrb0/UZORN8fvPNcOG42FlBy3nkgW5NXPN14vbA/8vpXUMWJIYv0NPC9ihfxW85SQ0gfd3Jdcd/4Ts//PO/fWSbC8b5PvcrfIXVrYlryM66tOB/7xqyIDF8gZ4WdkeJ33KSmkH6upNrjf/Cf/WNN3/uzZv/7s2b//2fv8SOOk6XdGt8hdWtiWvIzrq04H/vGrIgMXyBnhZ2R4nn/dQMzhg/f++vvgnNKUGDME5vS7Lbl+NL9lXG4bGCrOaRB7o1cc3XidsD/y+ndw1ZkBi+QE8Lu6PMp/6RHit8hdWtiWvIzrq04H/vGrIgMXyBnhZ2R9k0gDEeK3yF1a2Ja8jOurTgf+8asiAxfIGeFnZH2TSAMR4rfIXVrYlryM66tOB/7xqyIDF8gZ4WdkfZNIAxHit8hdWtiWvIzrq04H/vGrIgMXyBnhZ2R9k0gDEeK3yF1a2Ja8jOurTgf+8asiAxfIGeFnZH2TSAMR4rfIXVrYlryM66tOB/7xqyIDF8gZ4WdkfZNIAxHit8hdWtiWvIzrq04H/vGrIgMXyBnhZ2R6GTfvoqlvuH9L0n8215O36s8BVWtyau+Tpxe+D/5fSuIQsSwxfoaWF3lHzqDzfhtd72t/3HCl9hdWviGrKzLi3437uGLEgMX6Cnhd1R8ql/+W6UER4rfIXVrYlryM66tOB/7xqyIDF8gZ4WdkfJp360MSO6NXEN2VmXFvzvXUMWJIYv0NPC9igft1/Ukr/QMt0zftUbOnqs8BVWtyau+Tpxe+D/5fSuIQsSwxfoaWF7lK/i7eHnLzopx6ub7fb1WOErrG5NXEN21qUF/3vXkAWJ4Qv0tLA7Srw9fGpg6T7x83jVGPp6rPAVVrcmriE769KC/71ryILE8AV6WtgdJZ73UwPbj3t9rPAVVrcmriE769KC/71ryILE8AV6WhiylHR8Q9atiWvIzrq04H/vGrIgMXyBnhaGLCUd35B1a+IasrMuLfjfu4YsSAxfoKeFIUtJxzdk3Zq4huysSwv+964hCxLDF+hpYchS0vENWbcmriE769KC/71ryILE8AV6WhiylHR8Q9atiWvIzrq04H/vGrIgMXyBnhaGLCUd35B1a+IasrMuLfjfu4YsSAxfoKeFIUtJxzdk3Zq4huysSwv+964hCxLDF+hpYchS0vENWbcmriE769KC/71ryILE8AV6WhiylHR8Q9atiWvIzrq04H/vGrIgMXyBnhaGLCUd35B1a+IasrMuLfjfu4YsSAxfoKeFIUtJxzdk3Zq4huysSwv+964hCxLDF+hpYchS0vENWbcmriE769KC/71ryILE8AV6WhiylHR8Q9atiWu0GwAAANACuTNxaG0sj/qkrv8fTiTvVtCC/r3nAAsS2xfoaWHIUtLxDVm3Jq4hOy8hdyczebeCFvTvPQdYkNi+QE8LQ5aSjm/IujVxDdl5Cbk7mcm7FbSgf+85wILE9uVV6fl49/bt3WP+Ycfj3d3jSx5vqKbSS3D57dvDU/7Zm6dDMM/F7Ruybk1ce1XZ6U7uTmbybgUt6N97DrAgsX15ZXo+HeQ2plBTpdDJrtbGCOpkaGNXoq7/uTuZybsVnO1/fHl0d3eIL8LuDk9Tfr1QAYapZU7acqb3HGBBYvsysJ6hZFJxUHXkOZo6PE6VlE/e+YonIvSLmioF9+5SIFTma5/vHp/igP4tZgM5uDRzd5jPEmEyMJ1OounL2tjzwzvaOPDu4TnPbaHFPOIQ1/Td2qeu/7k7mcm7FVzif0jbmJYvVHBzgr28pFE5x285UUHD8oxApFe+F06u6S+oNa0Vpo8/F0p0rpiE6D/tXp60D2n38Novv+ILXe6wqpnVLitqPmtRh9S+yOWi08bXsUGYGMnacVqbTghhszQOluJ2YUAnjmlu3rTEHPL7+/v3cRDamdTIdGviWk3dPajr/5efxwR5+/bzLz9Yxnm3gkv8X4qJ0nNKMBrm4xVJx24503sOsCCxfRlWz3VFTJUSZuNEYFs07bax2a3yh6U/TYRXs/kksSwtHW3euWhymx8WTg/5/b18OaZbE9eGzc6bkC+yzOTdCi7xn2lOlIC7EYE21h2t+T+snlQoy8mfuRp7CW/H9XM1Fn2O47nQt/2nWCy3Y9pYuWVQZGUmYw95flMxX5Vx6NbENX23U5kdpW57jXE+TAHN51ENcncyk3crONv/kGHxpVQqOWJOvEB+lzvMCVsu1NXwSvQe1G3876XQLkfxP7zXFuti/p1QqJj5d2Pz75lmqKI2JTRRTaWpyPMvt0Ik2enpjFD0oClgiuwxnhFo42mrZZjOJ5M2d3nTXSc7PeSYaEIr062JawNn5w3I3clM3q2gBf17zwEWJLYv0HOhwTZWj3NClt9W1K2Ja8jOS8jdyUzeraAF/XvPARYkti/Qc7mu2V+STAxZSjrWkN/fz52LuhiuxlbU9T93JzN5t4IW9O89B1iQ2L5ATwtDlpKOOeT5TWvhbesILeYRh7im79Y+8P9yeteQBYnhC/S0MGQp6fiGrFsT15CddWnB/941ZEFi+AI9LQxZSjq+IevWxDVkZ11a8L93DVmQGL5ATwtDlpKOb8i6NXEN2VmXFvzvXUMWJIYv0DMg/41iYshS0vENWbcmriE769KC/71ryILE8GVgPed7Wqw+IbZ8mIyW48ef86cuM2w7G7KUdHxD1q2JawNnZxe04H/vGrIgMXwZVk9qV9NHhcNnfXMjC7P55qTh7+ynu3jgamyHb8i6NXFt2OzshBb8711DFiSGL6PquXwYLDHfbphtV2hjO3xD1q2Ja6NmZy+04H/vGrIgMXwZVs/YmfLF1kJxjVYSNg59jrnRYmTIUtLxDVm3Jq4Nm52d0IL/vWvIgsTwZWA9l3sqlr8dWyZXs/nirZgqGbKUdHxD1q2JawNnZxe04H/vGrIgMXyBnhaGLCUd35B1a+IasrMuLfjfu4YsSAxfoKeFIUtJxzdk3Zq4huysSwv+964hCxLDF+hpYchS0vENWbcmriE769KC/71ryILE8AV6WhiylHR8Q9atiWvIzrq04H/vGrIgMXyBnhaGLCUd35B1a+IasrMuLfjfu4YsSAxfoKeFIUtJxzdk3Zq4huysSwv+964hCxLDF+hpYchS0vENWbcmriE769KC/71ryILE8AV6WhiylHR8Q9atiWvIzrq04H/vGrIgMXyBnhaGLCUd35B1a+Ia7QYAAAC0QO5MHFoby6M+qev/hxPJuxW0oH/vOcCCxPYFeloYspR0fEPWrYlryM5LyN3JTN6toAX9e88BFiS2L9DTwpClpOMbsm5NXEN2XkLuTmbybgUn+L98pQR37+0L6D0HWJDYvrwqPUOlpW9s4Xi8m76VbEd7Ki1njYj6NTPhi0G3G7y8PD0e7uSInUPWrYlrryo73cndyUzercDuf/zqiDz2pfccYEFi+/LK9KRqE9uYQmsqhSY2d6Dww4ltLDbBu9jU0cauSF3/c3cyk3crsPm/fkk1ZVr4gok4f7c0uPRF64dHegUVFkyNr/ccYEFi+zKwnnwd3R1SDS2n8LIKhcJqTSVymWtARSSrJrew2otOKm5t7PnhHe1x/z7/uEW3Jq61pvup1PU/dyczebcCu//h9WGZSpR2Sy09HeK3+SUoH2lp2XadoJSReX6igoasSxdOrrluUL37fzpX9Of6YhKi/7Q7U0fh5WCuodDl1t+QudplRWvPGnkqN6DAukPtrsYSfm2Mmti7h4d7tLENdf3/8vNcO59/+cEyzrsV2P3ftrH1z2VhiUUm0HsOsCCxfRlWT76OwmycCGxLr/s29vK4fCfoDdtYuBKjBvYebWxLXf/zRZaZvFuB3X+tlugF4+pqDG0Mie3MsHrydURn7nw19hK+8Lnjq7GlA1F08YdicrW+tLF4AbqaLjbaYA95al/dtrH0hijx7uH5knE2V0DzeVSD3J3M5N0KbP6Hopop0zK/ppqrKqTlgrGb1dXwSvQe1PX877HQLkfxf19HoYrm342VJ/REP21sfUaYIpkCpp8f0+/Sp2gmJeYtV+cTtplZQ16aF67GdtT1P3cnM3m3ghb07z0HWJDYvkDPhZ7a2NUxhky9aw37YumINXFN36196vqfu5OZvFtBC/r3ngMsSGxfoGdxaSK+xTZkKemcHjKuxnbU9T93JzN5t4IW9O89B1iQ2L5ATwtDlpLO6SGjje2A/5fTu4YsSAxfoKeFIUtJxzdk3Zq4huysSwv+964hCxLDF+hpYchS0vENWbcmriE763K2//GPF41/iniE3jVkQWL7Aj0tDFlKOr4h69bENWRnXaz+c38cJf691In0riELEtsX6BmQ/0YxMWQp6fiGrFsT15CddTH5v/rY2HIJRiV1mD4A8jT96dT8Af3pox/H6V1DFiS2LwPryZfM8mEyWo4ffxbKsGTIUtLxDVm3Jq4NnJ1dYPWfvxrLf/lLi/lPgKn2po4WPuOYJpc/FI7sbjrXu4YsSGxfhtWTLZk4+5JnqXymu3jgamyHb8i6NXFt2OzsBKv/fBubpqby2zSsfcdi6V1DFiS2L6PqyZeM1K7Qxnb4hqxbE9dGzc5esPof6icUWHmHt30bS2WWXzma6V1DFiS2L8PqyZdMuBpjCokrw5IhS0nHN2Tdmrg2bHZ2gtn/UDfx1WJ+/z6/UR9ePOZh6mnLDeLMvx3rXUMWJLYvA+vJl8wyuZrdlOGGIUtJxzdk3Zq4NnB2dkEL/veuIQsSwxfoaWHIUtLxDVm3Jq4hO+vSgv+9a8iCxPAFeloYspR0fEPWrYlryM66tOB/7xqyIDF8gZ4WhiwlHd+QdWviGrKzLi3437uGLEgMX6CnhSFLScc3ZN2auIbsrEsL/veuIQsSwxfoaWHIUtLxDVm3Jq4hO+vSgv+9a8iCxPAFeloYspR0fEPWrYlryM66WPx3vAswS+8asiCxfYGeFoYsJR3fkHVr4hqysy5G/5dPOl+B3jVkQWL7Aj0tDFlKOr4h69bENWRnXYz+Uxtj7gL8dLhLc7nJpc9Bh7m7w2PcPDc//X7BvWvIgsT2BXpaGLKUdHxD1q2Ja8jOuhj9f9zfBTjeRCcMAk+HeI+cMEmt6yVvlTehbjf1vuLmpwu9a8iCxPYFeloYspR0fEPWrYlryM66GP1fWtbch9YNKW8w9bb0T/optLYS3OG+B1rzH3paGLKUdHxD1q2Ja8jOuhj9Z9rY1LHiuLga27Wx9M/2Eqygdw1ZkNi+QE8LQ5aSjm/IujVxDdlZF4v/x+8CnBvay7RhvADL/8RGNm/J/Xasdw1ZkNi+QE8LQ5aSjm/IujVxDdlZlxb8711DFiSGL9DTwpClpOMbsm5NXEN21qUF/3vXkAWJ4Qv0tDBkKen4hqxbE9eQnXVpwf/eNWRBYvgCPS0MWUo6viHr1sQ1ZGddWvC/dw1ZkBi+QE8LQ5aSjm/IujVxjXYDAAAAWiB3Jg6tjeVRn9T1/8OJ5N0KWtC/9xxgQWL7Aj0tDFlKOr4h69bENWTnJeTuZCbvVtCC/r3nAAsS2xfoaWHIUtLxDVm3Jq4hOy8hdyczebeCE/yPnwKLqB9mPp3ec4AFie3Lq9Izfewy/7Bjvh/cnvZUWs4akfQBU4mnw24D/XashG/IujVx7VVlpzu5O5nJuxXY/X8Kd0bMY196zwEWJLYvr0xPqjaxjSm0plJoYnPPDT+c2MZewkzcP4zY7u0bsm5NXHtl2elM7k5m8m4FNv/XL6lipsX7eSyjKcPiD5R5j/E1VGx8af0uvajibkvVew6wILF9GVjPcI+bVBzLC8XwojHV0FJbZRWuz/YzralELnO9p4hk1eQW9ntd3MaeH97Rtpn793l2Ay3lEYe4pu/WPnX9z93JTN6twO5/eH24zqLlporrNcrHTbcKM49h2/AWwS4XK2i4rhlyzmFyTSuJ3bv/E1f058Ln3SAmIfpPuy89abo3aThpU6uKlRK63GFVM6tdVrT2rJGnbO+ZWTcn+okPLGgsGDKHTG3s3cNz/kFCtyautab7qdT1/8vPc+18/uUHyzjvVmD3/5Q2ts1FactE7znAgsT2ZVg9+doJs3EisC2a7tvY/AuvQLEB28biDVk5KwlzyGhjMnX9zxdZZvJuBXb/9w2IiinMhG8XW6UZ2hiBxPZlWD3LnkRn7N3V2MsTlVfHV2PLqWH69VYxuTl1TG0sXoDG6bDB6uSywxxy+aai9J7iEWvimr7btZkjozZtGefdCmg+j2qQu5OZvFuBzf9QVDNLWoYUCxOHQ1gPCThNJVKt5bnw6jLb2dRgXQ2vRO9B3cb/XgrtchT/4+VGZOpO8dw9/W4sn9ALqKI2JTTRnkrlGWGKZAqYfn6MZ4Q5mkmJacvViYdvZ2eEHDKNTbJj1sS1gbPzBuTuZCbvVtCC/r3nAAsS2xfoudBTG7s654T8/h5tbEVd/3N3MpN3K2hB/95zgAWJ7Qv0LC5sxHfZhiwlnTNCpi4mva2oWxPXkJ2XkLuTmbxbQQv6954DLEhsX6CnhSFLSccacuhdE8KlGEGLecQhrum7tQ/8v5zeNWRBYvgCPS0MWUo6viHr1sQ1ZGddWvC/dw1ZkBi+QE8LQ5aSjm/IujVxDdlZlxP8n/4a1p3eNWRBYvsCPS0MWUo6viHr1sQ1ZGddLvJf/oupk+hdQxYkti/QM3Cs4oYsJR3fkHVr4hqysy5G/5kPfK0/0pFW4lwcxtH0B1Vp09WNFkt615AFie3LwHryN3FfPkxGy/Hjz1zFbRiylHR8Q9atiWsDZ2cXnOD//pUg99pwmaI6LKry8S70L/bvhHvXkAWJ7cuwelKZTHURPhacSybMvuRZKp3pLh64GtvhG7JuTVwbNjs74QT/L21jYv31riELEtuXUfUMTapkvt0wWy5oYzt8Q9atiWujZmcvnOA/38ZC1ZW3fQtTNDLcaHGmdw1ZkNi+DKtnLKulTjLhamw/y1ZcyZClpOMbsm5NXBs2OzvB5H9oSQXLvbdDMcWZ2Loi07ZHbrRY0ruGLEhsXwbWc7mnYllIy+Rqdl9xJUOWko5vyLo1cW3g7OyCFvzvXUMWJIYv0NPCkKWk4xuybk1cQ3bWpQX/e9eQBYnhC/S0MGQp6fiGrFsT15CddWnB/941ZEFi+AI9LQxZSjq+IevWxDVkZ11a8L93DVmQGL5ATwtDlpKOb8i6NXEN2VmXFvzvXUMWJIYv0NPCkKWk4xuybk1cQ3bWpQX/e9eQBYnhC/S0MGQp6fiGrFsT15CddWnB/941ZEFi+AI9LQxZSjq+IevWxDVkZ11a8L93DVmQGL5ATwtDlpKOb8i6NXEN2VkXd//5+5yq9K4hCxLDF+hpYchS0vENWbcmriE76+Lsf3EPneU+p+JNQDK9a8iCxPAFeloYspR0fEPWrYlryM66+Pq/aVj7jsXSu4YsSAxfoKeFIUtJxzdk3Zq4huysi7P/1MeEb2NR6F1DFiSGL9DTwpClpOMbsm5NXEN21sXdf/4+pyq9a8iCxPAFeloYspR0fEPWrYlryM66tOB/7xqyIDF8gZ4WhiwlHd+QdWviGrKzLi3437uGLEgMX6CnhSFLScc3ZN2auIbsrEsL/veuIQsSwxfoaWHIUtLxDVm3Jq4hO+vSgv+9a8iCxPAFeloYspR0fEPWrYlryM66tOB/7xqyIDF8gZ4WhiwlHd+QdWviGrKzLi3437uGLEgMX6CnhSFLScc3ZN2auIbsrMvV/H86vH379vCUf1LpXUMWJIYv0NPCkKWk4xuybk1cQ3bW5Yr+x49C57FK7xqyIDF8gZ4WhiwlHd+QdWviGrKzLkb/5w81zzfpiFdbd3dpurh1x3Q/qrvDIdxfMc+q9K4hCxLbF+hpYchS0vENWbcmriE762L1/+Ul9anH6X6/YXz39u4xNKpwV/s0S81tuh9w6HOpjeHWwB3Smv/Q08KQpaTjG7JuTVxDdtbF6P9yh6mpTRHLm4a0HGdX7yPiTcWeac1/6GlhyFLS8Q1ZtyauITvrYvKfGtJ0jTWPiH0b46/GjtG7hixIbF+gp4UhS0nHN2TdmriG7KyLzf/pbcG7Q7wqC90pT4V3COOvybbvIMbfjZXXbjK9a8iCxPYFeloYspR0fEPWrYlryM66tOB/7xqyIDF8gZ4WhiwlHd+QdWviGrKzLi3437uGLEgMX6CnhSFLScc3ZN2auIbsrEsL/veuIQsSwxfoaWHIUtLxDVm3Jq4hO+vSgv+9a8iCxPAFeloYspR0fEPWrYlryM66tOB/7xqyIDF8gZ4WhiwlHd+QdWviGrKzLi3437uGLEgMX6CnhSFLScc3ZN2auIbsrIvF//gH9baPgJ1F7xqyILF9gZ4WhiwlHd+QdWviGrKzLkb/rTfkOIveNWRBYvsCPS0MWUo6viHr1sQ1ZGddjP5TG0uffF7dBfjpcJfmcpNLn4MOc3eHx/mD0mHL9FOc338cuncNWZDYvkBPC0OWko5vyLo1cQ3ZWRej//EuwKEBre5LtVyhPR0O8Ya/4R4e1OfyVnkT6nZT7wudb9fIeteQBYntC/S0MGQp6fiGrFsT15CddTH6z94+sWxIeYOpt6V/0k+htZXgDvc90Jr/0NPCkKWk4xuybk1cQ3bWxeg/08amjhXHxdXYro2lf7aXYAW9a8iCxPYFeloYspR0fEPWrYlryM66WPzPt/7d3wWYWlr8MfzCLE5MG8YLsPxPbGTzltxvx3rXkAWJ7Qv0tDBkKen4hqxbE9eQnXVpwf/eNWRBYvgCPS0MWUo6viHr1sQ1ZGddWvC/dw1ZkBi+QE8LQ5aSjm/IujVxDdlZlxb8711DFiSGL9DTwpClpOMbsm5NXEN21qUF/3vXkAWJ4Qv0tDBkKen4hqxbE9eQnXVpwf/eNWRBYvgCPS0MWUo6viHr1sQ1ZGddWvC/dw1ZkBi+QE8LQ5aSjm/IujVxDdlZlxb8711DFiSGL9DTwpClpOMbsm5NXEN21qUF/3vXkAWJ4Qv0tDBkKen4hqxbE9eQnXW5uv/xI9ALuztREb1ryILE8AV6WhiylHR8Q9atiWvIzrq04H/vGrIgMXyBnhaGLCUd35B1a+IasrMuLfjfu4YsSAxfoKeFIUtJxzdk3Zq4huysSwv+964hCxLDF+hpYchS0vENWbcmriE769KC/71ryILE8AV6WhiylHR8Q9atiWvIzrq04H/vGrIgMXyBnhaGLCUd35B1a+IasrMuLfjfu4YsSAxfoKeFIUtJxzdk3Zq4huysSwv+964hCxLDF+hpYchS0vENWbcmriE769KC/71ryILE8AV6WhiylHR8Q9atiWvIzrq04H/vGrIgMXyBnhaGLCUd35B1a+IasrMuJ/r/dHj79u3hKf/kRO8asiCxfYGeFoYsJR3fkHVr4hqysy4n+//yeIc2ZgCJ7Qv0tDBkKen4hqxbE9eQnXUx+j/dGfHucDjMbezl8TDNPr6kKeIpT769o+VDmn+hyTh7x/XA3jVkQWL7Aj0tDFlKOr4h69bENWRnXUz+Px2oJ8WGRP1oelOROtPhaelSuZGF2Zc8S60vtrHVBdzT4bC9O3DvGrIgsX2BnhaGLCUd35B1a+IasrMuFv9XbWj6Ybo+m0i3rl9tOrE0ucB+i941ZEFi+wI9LQxZSjq+IevWxDVkZ11M/rNXY7FjLd0pE67GtrNlbyMDuBrrgdb8h54WhiwlHd+QdWviGrKzLsf9//iRHuna6xuffPpzX3xBo9DUPn788CthnOcfvp+3/5UvPvvkkzj99rMvHj7Q7rF50eQ3aD41tGgzbh3oXUMWJLYv0NPCkKWk4xuybk1cQ3bW5bj/X3319be+lRsPDbzGZHaidw1ZkNi+QE8LQ5aSjm/IujVxDdlZF5P/qZOl3uM1LuhdQxYkti/Q08KQpaTjG7JuTVxDdtbF6n9qQr7jid41ZEFi+wI9LQxZSjq+IevWxDVkZ11a8L93DVmQGL5ATwtDlpKOb8i6NXEN2VmXFvzvXUMWJIYv0NPCkKWk4xuybk1cQ3bWpQX/e9eQBYnhC/S0MGQp6fiGrFsT15CddWnB/941ZEFi+AI9LQxZSjq+IevWxDVkZ11a8L93DVmQGL5ATwtDlpKOb8i6NXEN2VkXb//jN7m8PTw+xhsET3fv4G8iPNG7hixIDF+gp4UhS0nHN2TdmriG7KzLNfx/vAv9a2lXxQ2qipsIL/SuIQsSwxfoaWHIUtLxDVm3Jq4hO+tyDf83N//lbyJc0LuGLEgMX6CnhSFLScc3ZN2auIbsrMs1/N/ew56/ifBC7xqyIDF8gZ4WhiwlHd+QdWviGrKzLp7+f/z49fcfppsFhxsB524m3UR4oncNWZAYvkBPC0OWko5vyLo1cQ3ZWRdP/7+Kt0xkbwS8Hxf0riELEsMX6GlhyFLS8Q1ZtyauITvr4ux/6mT0SPdOVMZFJ+tdQxYkhi/Q08KQpaTjG7JuTVxDdtbF3//UqOzj/jVkQWL4Aj0tDFlKOr4h69bENdoNAAAAaIHcmTi0NpZHfVLX/w8nkncraEH/3nOABYntC/S0MGQp6fiGrFsT15Cdl5C7k5m8W0EL+veeAyxIbF+gp4UhS0nHN2TdmriG7LyE3J3M5N0KWtC/9xxgQWL78qr0DDcM2N0lYObxbn8nnEx7Km1ufrD+ROmWp8Nug3Dfn7SrELRvyLo1ce1VZac7uTuZybsVtKB/7znAgsT25ZXpGW7aloen0JpKoYnN7Sf8cGobo33S/tTO+EbmG7JuTVx7ZdnpTO5OZvJuBWf7H+8BfHeXXioVd+mYXz3Nc9KWM73nAAsS25eB9Qwlk4pjuf0NTR0ep0rKZ+/ywkZoB62pNHehNUUkqya3sNvLpY09P7yjzSP37/PcGlrJIw5xTd+tfer6n7uTmbxbwSX+x1daoZzCDeznDHt5SaNyjt9yopUcWBcSeXza5JrrBnWhq9X9P50r+nN9MQnRf9p96UlPh0PaPbz2y6/4Qpc7rGpmtcuK1p418pTtPTPr5kQ/MYFNAvOW7CG/v3/z7uE5/yCgWxPXWtP9VOr6/+Xn8fl9+/bzLz9Yxnm3gkv8X4qJCm1KMRrm4xVpx24503sOsCCxfRlWz3VFTJUSZuNEYFs03bex+YubAsUGfBuLvDxRM+NsWUMOV2LCJViBbk1cGzY7b0K+yDKTdyu4xH+mOS1pu0pgtLHuaM3/YfUsexJdeO2uxuL5u+OrsaX3TO8LFpOr9aWNxQvQME3r0zK1vovaGF2LFUgNjZbyiENc03e7BvP7o3SBeeo4myig+TyqQe5OZvJuBWf7HxIwvpRKJUekBEzTb+8O8fVWmBO2XKir4ZXoPajr+d9joV2O4n84ace6CL85jjOhYubfjaUTeglV1KaEJtpTaTohBKZIpoDpZ+pNxBzNpMQcc3HdNs+tsYZcvqUYWhrfyHRr4trA2XkDcncyk3craEH/3nOABYntC/Rc6KmNXR1ryPQqaXl9RH0Mbaygrv+5O5nJuxW0oH/vOcCCxPYFehYXNtyba5EhS0nHHPJyORau+9lL/mPWxDVk5yXk7mQm71bQgv695wALEtsX6GlhyFLSOSHk5ddj4t960FoecYhr+m7tA/8vp3cNWZAYvkBPC0OWko5vyLo1cQ3ZWZcW/O9dQxYkhi/Q08KQpaTjG7JuTVxDdtalBf9715AFieEL9LQwZCnp+IasWxPXkJ11acH/3jVkQWL4Aj0D8t8oJoYsJR3fkHVr4hqysy4t+N+7hixIDF8G1nP+bNTqk1HLh8loOX78OX/qMsO2syFLScc3ZN2auDZwdnZBC/73riELEsOXYfUMN6x4yp/1pXFuZGE235w0/J39dBcPXI3t8A1ZtyauDZudndCC/71ryILE8GVUPZcPgyXm2w2z7QptbIdvyLo1cW3U7OyFFvzvXUMWJIYvw+oZO1O+2FoortFKwsahzzE3WowMWUo6viHr1sS1YbOzE1rwv3cNWZAYvgys53JPxfK3Y8vkajZfvBVTJUOWko5vyLo1cW3g7OyCFvzvXUMWJIYv0NPCkKWk4xuybk1cQ3bWpQX/e9eQBYnhC/S0MGQp6fiGrFsT15CddWnB/941ZEFi+AI9LQxZSjq+IevWxDVkZ11a8L93DVmQGL5ATwtDlpKOb8i6NXEN2VmXFvzvXUMWJIYv0NPCkKWk4xuybk1cQ3bWpQX/e9eQBYnhC/S0MGQp6fiGrFsT15CddWnB/941ZEFi+AI9LQxZSjq+IevWxDVkZ11a8L93DVmQGL5ATwtDlpKOb8i6NXEN2VmXFvzvXUMWJIYv0NPCkKWk4xuybk1co90AAACAFsidiUNrY3nUJ/D/cnrXkAWJ4Qv0tDBkKen4hqxbE9eQnXVpwf/eNWRBYvgCPS0MWUo6viHr1sQ1ZGddLP5vv0uC/8a+QPxiP/WbJDh615AFie3Lq9IzFFz6xhaOx7vpW8l29KxSOHmcfO7wDlm3Jq69quxsEIv/+UuO8j+UbVqyHflCJI7eNWRBYvvyyvR8OshtTKFnlco29vQoNeodviHr1sS1V5adzXGC/7mNLbBfvk4bHdL08oVJ6dvXD49p+12f611DFiS2LwPrGb6oJVXMUho0dZjLK1dX+a6I8FpxjFKi84V4vbnDGvL7e9qy4P59XlhBC3nEIa7pu7XPK/J/08ZCoeU+VXz5eng/JI1p8zIXwzz3RYBE7xqyILF98fGn7ATE/FXL+eeIy+QO0X/afSmrp0P8Vsz0yi+XS6iu9TdkrnZZ0VfWUWBRsfAqOL3UpTPGLOcdvexNIwo2LrNBnxMytTS+ix2xJq71pfueV+T/ung2xTtX77JR0dsIsfL615AFie3LsHryZRJm40RgvckobSx0pty2QnjxhLIaENTCaRyCfXl6WrXymdNDfn54J3WxI9bEtWGzsxNO8H9TPPHHfWYtG/H1ydC7hixIbF+G1bMsKzpr767GXsIXPg94NRa7VRFG/HnbxubNiPTzjpNDpkuxdw/P+YctujVxbdjs7ASj/+mSP7L0pvBuxzSZfjuWNwsvJPMw5GnMxJl9AfauIQsS25eB9VzqaOpO8UQ+/W4s11YBFVT/bSydIWKrfnl6Ea7GAnm7/NOOE0PWLsUI3Zq4NnB2dkEL/veuIQsSwxfouTBGG6Mwpj5NwUwvlGmcXvYujWz9ts6W00IOf+ihdLEj1sQ1ZGddWvC/dw1ZkBi+QM98eg+Ip/XBSol6G4X69BjfXRU4KWT1DcWAbk1cQ3bWpQX/e9eQBYnhC/S0MFgphV8Lyj07cULIR95QDOjWxDVkZ11a8L93DVmQGL5ATwtDlpKOb8i6NXEN2VmXFvzvXUMWJIYv0NPCkKWk4xuybk1cQ3bWpQX/e9eQBYnhC/S0MGQp6fiGrFsT15CddWnB/941ZEFi+AI9A/LfKCaGLCUd35B1a+IasrMu7v7PH4Kheku/mo1/Snt3N/9x7e4Xtr1ryILE8GVgPdl7k4Y/M4+Tb+9oOX78efqb9ATbzoYsJR3fkHVr4trA2dkF/v6/vKRSpOKbi/Ix3G8mlF2o2KJUE71ryILE8GVYPaldTS/twkvAXB1hNhdS+Dv76S4euBrb4Ruybk1cGzY7O8Hd//lFZHgZOTWspfiWQl3oXUMWJIYvo+q5fBgsMd9umG1XaGM7fEPWrYlro2ZnLzj7T2WW29QyItDGuqM1/4fVM3ambUmU12glYePQ55gbLUaGLCUd35B1a+LasNnZCd7+U52lF5WHeFUWulee2txosaB3DVmQGL4MrOf+3qSBZXI1O9fX7tVgYMhS0vENWbcmrg2cnV3Qgv+9a8iCxPAFeloYspR0fEPWrYlryM66tOB/7xqyIDF8gZ4WhiwlHd+QdWviGrKzLi3437uGLEgMX6CnhSFLScc3ZN2auIbsrEsL/veuIQsSwxfoaWHIUtLxDVm3Jq4hO+vSgv+9a8iCxPAFeloYspR0fEPWrYlryM66tOB/7xqyIDF8gZ4WhiwlHd+QdWviGrKzLi3437uGLEgMX6CnhSFLScc3ZN2auIbsrEsL/veuIQsSwxfoaWHIUtLxDVm3Jq7RbgAAAEAL5M7EobWxPOoT+H85vWvIgsTwBXpaGLKUdHxD1q2Ja8jOurTgf+8asiAxfIGeFoYsJR3fkHVr4hqysy4m/6cbJc7sb++74unAfxtSuqfibql3DVmQ2L68Kj1DvaVb3XOUN93ecHOVxFJnSHdUPXLu2HPkEL4h69bEtVeVnQ1i9f9puTM9NbWTU3Em3KIbbawDWvP/lekZ6i0PT+HmKp3SxgjaHG2sQV6L/6mNFc0sple4tnp8jLfinrpTmt0kXnHf+/AFFHl2oncNWZDYvgysZ7jDfayPu6U2aOqQCmu5finfFBFO7EeOkneeTGaDd4/pvvnpm23D9LTl8mUxxbHnU0Dpz2Jyv28IJs9RnMUZZMfuKNwhNtgT4/nhHW0ceffwnCc30FoecYhr+m7t81r8z91pm0mUZUW6TlDylWW2vASjUsKbin3Qmv9X9Gd9rqRcdZjcIfq/KpanQ/w6sVRvubBC/1l/tdhqlxXaUaYiDOOljHNh00Q4DFktj1zsNLNUc4B+Klzh9k2DOBmGe4MsxVHWh9hhTYzQxO7fb4dbdGvi2hWz8ya8Fv8pxymr0v8L+HqidC2mVz+tlxK9a8iCxPZlWD3XNTWVR5iNE4Ft2XFFlFCOIvSP0HnKlfDzinSk5SqLKLZf9Rh239WRVz/sYY+yOsQea2KgjSm8Fv93DSzB19OmzJbcxdVYN7Tm/7B6lsVC9bG7GmO+6PmMNka7zH0hXXdli9vGkjacVjPF3qUhYuox0Wb4qlx13xDV6mgrhKOsDrHf+YTEeH9PGweEHkbQYh5xiGv6bu3zKvwPSZVZyqeYJPL8epIyMc7O0ynTt5ncu4YsSGxfBtYznJ9jeYQ36ONMKJf5d2P7czeV01KHK/ijfPxIj3SUb3zyyTc++TRb/Pjxw8On8cBvP3v4ftgs8uHhi88++STPf/rwgebjzrTvZ188PMZLrp/7lWCTNqaF0iazb9w5bfMYd/5Gno/QYB5//1d+7tOwL0X8C1/Q9p+kKH/9i09pnIUot4/YEyN0sXcPz7GZSY1Mtyau2Z1oE/h/Ob1ryILE8AV6Lpzaxr766utvfSs3ABr0PqZwCqzCUveae5f8rqJuTVxDdtalBf9715AFieEL9Cze6hDfmBOPkjpZ6gG9j9cYhQ2da/77xHBBhjZWAP8vp3cNWZAYvkBPC9pRUjNoYJza8V/6oR+iR2rLcfxX8wWmum8eF5iFDY1sBm8qroD/l9O7hixIDF+gp4UhS0nHN2TdmriG7KxLC/73riELEsMX6GlhyFLS8Q1ZtyauITvr0oL/vWvIgsTwBXpaGLKUdHxD1q2Ja8jOurTgf+8asiAxfIGeAflvFBNDlpKOb8i6NXEN2VkXX//nT8AsH6/Mf14Vii98+JH7K6veNWRBYvgysJ7zvSviB6MmplKigsk3o0r1M8G2syFLScc3ZN2auDZwdnaBs/8vL6kOqfKWinw6TCVHpcncca53DVmQGL4MqyfVxPSaL7wKzGUTZnMthReC0108cDW2wzdk3Zq4Nmx2doKv/1R8+bXi6qLrJVWnVIO9a8iCxPBlVD3zuxUz8+2G2VJBG9vhG7JuTVwbNTt7wdN/qrHcvJZRIlbf8lJzQ+8asiAxfBlWz1gbu7oIV2P72bhx6HPMjRYjQ5aSjm/IujVxbdjs7ARX/6nI0ivKeOfE1bv3Lwfh3Xyidw1ZkBi+DKzn/Bvl1W/HlsnV7Fxi7EvCIUtJxzdk3Zq4NnB2dsGt/M/vK7L0riELEsMX6GlhyFLS8Q1ZtyauITvrcn3/p0s0XI11RWv+Q08LQ5aSjm/IujVxDdlZlxb8711DFiSGL9DTwpClpOMbsm5NXEN21qUF/3vXkAWJ4Qv0tDBkKen4hqxbE9eQnXVpwf/eNWRBYvgCPS0MWUo6viHr1sQ1ZGddWvC/dw1ZkBi+QE8LQ5aSjm/IujVxDdlZF7P/T4/xD4CXT18uf7oRyNOrybhtmpn3SjfUWf+xR+8asiCxfYGeFoYsJR3fkHVr4hqysy5G/8v7SS0da5orhmGD6U/r83RsZPljLmG4ux9V7xqyILF9gZ4WhiwlHd+QdWviGrKzLkb/H+O9AwKrlpWhqeUzYUsby0PaI3wemvYKP9NFHdpYB7TmP/S0MGQp6fiGrFsT15CddbH5/3SY3wfct7HNzPpqjEahjT2GOxXMrSyuLvSuIQsS2xfoaWHIUtLxDVm3Jq4hO+ti9H/pVLs2tp1Yvk4iz6c2FtcItLE+aM1/6GlhyFLS8Q1ZtyauITvrYvT/6ZB/ubXrYkWHSyxXYxm0sR5pzX/oaWHIUtLxDVm3Jq4hO+ti9v8l3al028Tka7E8TRvEH2Mnm1bXRnrXkAWJ7Qv0tDBkKen4hqxbE9eQnXVpwf/eNWRBYvgCPS0MWUo6viHr1sQ1ZGddWvC/dw1ZkBi+QE8LQ5aSjm/IujVxDdlZlxb8711DFiSGL9DTwpClpOMbsm5NXEN21qUF/3vXkAWJ4Qv0tDBkKen4hqxbE9doNwAAAKAFcmfi0NpYHvUJ/L+c3jVkQWL4Aj0tDFlKOr4h69bENWRnXVrwv3cNWZAYvkBPC0OWko5vyLo1cQ3ZWZcW/O9dQxYkhi+vSk/2Dtozq9sJrGlXpfSRUdHx8/ENWbcmrr2q7GyQk/x/ecz38tCYb/ix54UM3G0++0z0riELEtuXV6Ync7MbC02rRJ0MbaxNXoH/IftSZzK1sf3tqiLhllRk5onZv3cNWZDYvgysZ7htdrpFzlI5NHUIr/nKS5jphjgBrsSIBlWiSJLLVP9FKPPsYT4lLJPFZVsQJ88VswX2kJ8f3tHGgXcPz3luCy3mEYe4pu/WPq/C/5en8P0qh6cntkPFtwuWeaGNURdbEnZN7xqyILF9GVbPVb2EtzLyINRUrJf45RCryhFKjGhNpdB579Jr19iEUx8qg4sbxGF8ufz0QtB5Js8Vy2E8DUusIb+/f/Pm/v12uEW3Jq4Nm52dcIL/VE3cq0AqqfglYlOCiZdsIQ25POxeQxYkti/D6kllVRTF1KDCbJwIrDeJldRJGwutaXZ9+iF0sRU5mPmqNF6jxanV/jzGkMOl2Ny6qI8JF2S6NXFt2OzshFP8Dy+StkmVXi7FbxLLaO88UlYy9de7hixIbF+G1bPsSXQi312NhWuTt31fjUXnKbZ8NZYmY3AFNEtRpU3nvYr901Xpdi97yGXrWvW0Fbo1cW3Y7OwEm/9USvRCiXIov5BavVsdXjEVVfXytKyWW2bWBRnpXUMWJLYvA+sZzs+pOKY6opM3janm0mQ+j8/Qyb2LNvbx49cfv5+C+8Ynn/7CwxcxnMcPHz9+ePgihfyNTz757NOH1LE+++QT+jFuc/iF79O+H8P002Gaj0IEm2F+xhzy8quxAK7GSuD/5fSuIQsSwxfoudBLG/vqq6+/9a3ceGjgNSazBeeETFdm+N1YCfy/nN41ZEFi+AI94ztsiel9th3NqZQ6Weo9XuM1p4es/IXHEWviGrKzLi3437uGLEgMX6CnhRZVSk3Id1xgDbl4T1HqYQSt5hGHuKbv1j7w/3J615AFieEL9LQwZCnp+IasWxPXkJ11acH/3jVkQWL4Aj0tDFlKOr4h69bENWRnXVrwv3cNWZAYvkBPC0OWko5vyLo1cQ3ZWRcP/9d/OKXcU1Ggdw1ZkBi+QM+A/DeKiSFLScc3ZN2auIbsrIuL/6vaOlZpe3rXkAWJ4cvAes73Elx9Qmz5MBktx09b5g9tZtgiG7KUdHxD1q2JawNnZxec4H/+e1/mj32p4pZJrY2Ftf3uvWvIgsT2ZVg9qXime1OEz0Hn8gizL3mW6m66acCx14hDlpKOb8i6NXFt2OzsBLv/VEGhxsI/20pa3X+KuxlVeKPxKczTC8p9GfauIQsS25dR9QxNqiTdSlFqV2hjO3xD1q2Ja6NmZy/Y/c9tjFhdfAVWxcW0sbhD3J0tw941ZEFi+zKsnrEktq/7ymu0krBx6HPMjRYjQ5aSjm/IujVxbdjs7AS7/+FKSuTucWljzD0Vw1cNJTZfORHpXUMWJLYvA+u53FOx/O3YMrmazRdvxVTJkKWk4xuybk1cGzg7u8Du/3wx5k7vGrIgsX2BnhaGLCUd35B1a+IasrMudv/Z9wNd6F1DFiS2L9DTwpClpOMbsm5NXEN21uUE/0//QJiR3jVkQWL7Aj0tDFlKOr4h69bENWRnXVrwv3cNWZAYvkBPC0OWko5vyLo1cQ3ZWZcW/O9dQxYkhi/Q08KQpaTjG7JuTVxDdtalBf9715AFieEL9LQwZCnp+IasWxPXkJ11acH/3jVkQWL4Aj0tDFlKOr4h69bENWRnXVrwv3cNWZAYvkBPC0OWko5vyLo1cQ3ZWZcW/O9dQxYkhi/Q08KQpaTjG7JuTVyj3QAAAIAWyJ2JQ2tjedQn8P9yeteQBYnhC/S0MGQp6fiGrFsT15CddWnB/941ZEFi+AI9LQxZSjq+IevWxLVXkZ0vT4/xPp+r+3lyky/LtzaUN36at1zmaO/Hu7v8tQ6JaefVPaPYyYIW9L+BhsxkMUXkWaNBdt81VmHn+8LO39ARf0osluetyvueTxuvn9xttjCpMhHu9szNE0f837id2E+yHk6blSIHL7PbxWSBMUlWDtjFlLZkXd3oJu27RvR/vTuRbl2ab8QtmROwZl3rhOiL0JMY/D1dfUPWrYlrvetu8T/cVDfWCz0b83PDTlJK7/P26TDNLaME1dhyEpl3LY2wkyUt6H8DDZnJYmoeWg1y+26wCUvPIJ1KwxEzvOWX+Ws7norDzcPSByFb6EBFv0mEOeodu/mI6v/O7QAzKXgYtkvDp2mSVb7EoOfOAbuY/Ja8q2G21E3Yd4PmfzCY3SYLy9laMSdgy7r2oSxYpQEpgTZ2RU7yP1ZFHs+Uk2zePsZvGApsl0P656FwymAnSxz1D6n39u5uevn6NBcjuZnmeBduoaEUfoIWNwVy1ODMft+EJSjuG0YXWMtHn1whWyigTbsKMy/MfEbxn3WbnWQ9jNqGTUNiLB5muLnAUT0vFHOm3JJzlUaibuxREpr/i8n13jv/fEupI0iJU9vY+3taeffwnH8MxKnIer6A1vKIQ1zTd6sJxSwGu2D1P57jt68zd5Px2Yrk8iGKl6fbtF7XEtXxHXFYXbKxkwW++pP79KKaBuGwKelWPoe7C+dhwfU15CczG1VtBjObfQssQdHzd1je38qTGdZy2KGYZJ5cKVtoz5Xy4ecQy3Z+RvGfdZud5DykSdo2bUdLxdHZ53fiqJ68AwmLmInNljtX6WdRNzkZCM3/FDgdJZXMzNaZ9RN6SSm1TdIjqhESiIbEXp4EF3LoV/fv12fw54d304/FcIsuoLjWiO4hsPv3cUjB51GcJaYfOU7yn/Jw/1Swk2XKLqNNWq9raV4rt2InS3z1Xw4ylfsyiLBe3EDDhd2ktJXFILtvwhJU6I9TZyzetArsLVNBby435k3KjZfhysTmtDudOCNMpKr/rNvCJOPhAjdLc6f6k7hQzATvJ5EXNN3EfSOa/+HJMVyNrTdgj3ZSKbULBZ7kDXpP/57QxhKrNlac4QnxGkUXUFxrRvccZtHEZmhOvAw97n96PyI+AfTs5NxjJ0Oe5qeKymx+WRped01brjOXti/a2CG/oRFKdNqMnSzx1X9xMLi2c5qiPu8l5KUaspOZxb9TnpQEeypJmISNB4yjl8fl+7MDa8vh2Us+LMIKT66QLWG3PFwhzav+s25zk2r6JbmL4eR26ffMcT1ZryIWMRPCE1q4mgl75uGEkgzEET3XbmTWT+HqR/Jo3KuxEGnsWvHfEPM0kddL5JC3baw4hQ/bxqZrr3100nzE5D+laX79VmQlO0kllmbX+Tu9s7HMhad1Js3Hp5qgzZanm50scNQ/HyqUd37Rmv1iIy24hYa8sNHpcsJukNjsu8Yo7HTAtaWN5elJTCzVPM3TxsWTu82W1c6cWfb0oPvPus1Mch7m5KAXB6XX085rkwsWPVmvrGISmy0lV1nddvtuEP0v/FkMrJ2MNRWnPVTqgBg+yTv9O0/k9RI55NfZxuJF1yo6tYElGvL/LFrwv3cNWZAYvkBPC2OUUn71ENp66ufpd2PrF2ETcsjbNrZ+U5H/VZEuoLjWjO455iX0lQgivedNC/73riELEsMX6GlhyFLSkUNen8FDH8s/FsMtuoDiWiO6LxErIXL0njct+N+7hixIDF+gp4UhS0mHCzm9jTYxnc6LWf5SjKC1POIQ1/Td2gf+X07vGrIgMXyBnhaGLCUd35B1a+IasrMuLfjfu4YsSAxfoKeFIUtJxzdk3Zq49lqyc/4bo/RHR+u/RJp/c8ne/q7YtvgV5/4edNN267/L8rhV3ak8bf8wXcfkAxtdJPxCuFRMDnm7ZfGXbcuWm2dKwkvY/eFYy9LhDLvTxD6pEltBCjT/eQ9PSz/l0CxH9BQKKrE71uxVsR2bDJHV7nwecgbXuBWamp9uR+kH35B1a+Ja77rb/KfMo+IoqoOKYcr4YpigjVcJutsgQCemzT3o5q3K7febbWhBf4sPbHSBoBadQxbFxJC3W3L31gsbrZ8pASdhmcOxloXDWXePW+7OemFuJV2J4r/gYR6a0k89NMsRPYujHs2Qp/kzbMuITYbIenc2TM7glpMLbRtGgrzR8vPko/SPb8i6NXGtd90t/r+cdre3UDd5GOHzeSLmdRiwBTYzb7bB4j+dg/IL3DhKH99Iw/0dFOP89vUwuRRnw12JaLT5AIjFByG6oJV0g7t1yNqWs039mWJZH2Xh8sRgLZeTp+y+DzzMSIIQtsRYDnFK+h05NIvFnwQdv1CFORbJlkecr3qCsWHqBhOK/8v11VxGuYoys8mj+WlXaRh8Q9atiWsWJyg38vO5OjtyF/InvN2xn2TfGTjydoHFf8rSePbmzDB5v9RMYgmfNi2TOOX6vDvlePh8xe72iZvN1hiTYPEyeJedIL/oxTYNwpGnycAmKHKAlsM6FSzjickHLrrJl61i+5DFLQmaK4ITn6k9FwsrHo61zAVl3n0bePhZEiRyxP/9Iczpd/TQLMZE3eQedyxyaNpiX320ob47E6ZqcELz/yVfXpHpeLgIZyp4p+anVaWB8A1ZtyauWZxgc4O9kD/l7Y7tJGuQnSyx+B/a0NSAjt7tLRxJKm9ua5pLub+PqGTebIMxCRaTwbtsh50MrD1Y/cQ5Z9Mw71YYSCfIzD66ImRxSzoplS94lGdKojjKigsTg2Atl5On7B6eoTwMHJGOMBZm4cz+CVootjx+aBZjoq6Pzh9r2WS99SYZ2N3ZMCWDJYr/9NzkY5R6cKaO5qdRpZHwDVm3Jq5ZnGBzQ7+Qp8yY5+ZlNvPmSdbg0bcLTCIu3uh3e0vszjjTGYDKjJI4jqLFPEkvDcMkc/86brMNxiQgP4MP8e4wzOmAjrPUXzxYeSxapeWwfv7VGBPdQjh8Hh4JudgyWspeh+k4invHqe0ztcJL2P3hWMvS4Yy7B2i+TKoZaV72XzjE6eknHprFnqibw0RWx6JXpOnZJq+mrblkWFh2Z8LkDW6R9SRp5r2LIwdb4aAvT1Rz+aDBkXwAPj+NKo2Eb8i6NXHN4gQ9odOLlVwV4fmcT4eb3EkvocoZyrj92x3bSdagfJQJo4iUflMAeSawszkHGpiXgqtxptx6srhMTjLRxFwLzGZrjP4vtg9BXrKVZ0J5J8Wjv9N2man4y933jph8YKMj5vn5BCCFvNly7eq8+7T3aud9TnkJyxyOtSwczrL7Ks5y7710BZr/rDPsEyS4zR6aEbnAmiT7/ZljvSS3lo2nbRIrQTa7zz+u8nBncIfs/2IxGplNhPaV5kt3JkX5QxmzbiR8Q9atiWunOUHP+PTsLaNicobm5lycl8sN95PLovkoRO95c2v/ORl715AFieEL9LQwZCnp+IasWxPXDE7Q64/5ldBydcRcyNvf7uAm2XcGjr5d0Hve3NJ/0jC+kNy+/O9dQxYkhi/Q08KQpaTjG7JuTVwzOcG+q8ZeyE+X3KvZ6fRJc8vpk5lk3xk48nZB73nTgv+9a8iCxPAFeloYspR0fEPWrYlryM66tOB/7xqyIDF8gZ4WhiwlHd+QdWviGrKzLi3437uGLEgMX6CnhSFLScc3ZN2auIbsrEsL/veuIQsSwxfoaWHIUtLxDVm3Jq4hO6+Mw11Irk3rGkr3tw1/UhR+b/qW+/wTEuMUjjhDtK3n7fwPH0vg8i3RfNb54xuybk1c6133xv1/mv82cxmtaMH/xjUMn92IfwZUfIqQoB526PcmrU0lxlFniJb1vJ3/lHTqLZUbz7pr4Buybk1c6133xv33uQuJjfjx1XiMOJr/qr74O9Npak0vORAbVx5TUHwwE0gMO0edIVrW81b+hyam31K5l1JyxDdk3Zq4ZnOCvWZ3n7Tvu9B23hTXDzc5Wy3HSBWXBtNHGsKbcGlyTdsaRmJj3l6LxcSQUgOJYea4M0TDet7I/6l6wr9pZk8HpeSNb8i6NXHN4gR7ze4+adxsQ+N5s1RVpTZGh43n+okuf42UoVjmNhzCmtpzjzdpvXFi6Bx1hmhZz5v4n15JZdiXg0QvpeSIb8i6NXHN4gR7ze4+ad+3pPG8oeabEl5w39l/Okg4XHkH4XhgvuYmmtZQur9tnI6jLm/SeuPE0DnqDNGynrf1nzJvOintaDzrroFvyLo1cc3gBHvN7j5p33dFU3lD7hJrN296FxISKRyMjjbdQThMUt3F2TCfyn1NUxoyzP6vRZymeWmRGKdwxBmiHT3PEJPw8X8uMK6OiNZL6Qr4hqxbE9csTiwNpOgl7pPGzTb0njct+N+7hixIDF+gp4UhS0nHN2TdmrhmcYK9ZneftO9b0nvetOB/7xqyIDF8gZ4WhiwlHd+QdWvims0J9prdfdK+70LvedOC/71ryILE8AV6WhiylHR8Q9atiWvIzrq04H/vGrIgMXyBnhaGLCUd35B1a+IasrMuLfjfu4YsSAxfoKeFIUtJxzdk3Zq4huysSwv+964hCxLDF+hpYchS0vENWbcmriE763Jb/+PfKu9+y9i7hixIDF+gp4UhS0nHN2TdmriG7KzLrf3n/uKzdw1ZkBi+QE8LQ5aSjm/IujVxDdlZl3P9T58BvbsLf8P5GP+YM3en8GHn9Led5d+AFh+LRhvrgtb8h54WhiwlHd+QdWviWvO6d31r4OOc739oTeGbStKNBvNV1upiK3zoLv0735kqdD+0sR5ozX/oaWHIUtLxDVm3Jq41rjudifNJdxmt6D1vzvd/6lir/hXu9xYbVoRpbasfMr1ryPJ6E+M6QE8LQ5aSjm/IujVxrXHde7818FHO959tY6VKdOmFq7Fuac1/6GlhyFLS8Q1Ztyauta07nXWnky7a2IqX+Lux0J7Cr73yP7GRcTfSjatxKn5JV3nFRvSuIctrTYxrAT0tDFlKOr4h69bEtcZ1X3oX2tjV6F1DFiSGL9DTwpClpOMbsm5NXGtcd9wa+Ab0riELEsMX6GlhyFLS8Q1ZtyauNaV7+M3N9nc3uDXw1eldQxYkhi/Q08KQpaTjG7JuTVxDdtalBf9715AFieEL9LQwZCnp+IasWxPXkJ11acH/3jVkQWL4Aj0tDFlKOr4h69bENWRnXVrwv3cNWZAYvkBPC0OWko5vyLo1cY12AwAAAFogdyYOrY3lUZ/A/8u5xIcPbZC9KTAGlfevTfamoLXERqFZ6F2lM/ANWbcmrr2a7Jw+Abz78C8xr81L15vZ0IL+l/iQT8MffvO7P/L5l3mcoakUeyauL5OrzVe7z9v8yHd/M09Fwvy81Zefp23SRtmbAmNQ2drKgcXHjQPE3jeXmexNge6/klcNJCoZm/+weDZ8RVf3M3tuU2i3OUpT+IasWxPXetfd6H9I9FRZYbTO9tVaXLrezI4b6P/y9EhHp6Dzzzsu8SGek1NLWfWlNbRBXKWTdz6Rh9P4tMN692Vl2TqQTvzzytQRkunsTYExqGBi7cDq+EvfiazW4pLTTPamQPNfyav90nkzO8xJsvrUzMrwzeqOQ/Q/7L4imUhhZMNmdJXCoUQHe8WcGCZ0a+KarxO353T/t7le/pzG15tJ45Jb6R/uGZyHOy7xIZ6I6Yw8NSoOWosn7+U0Xoy2uy+brMZx+N1pqy8/n7dJZG8KjEHtHSgofQnsffOayd4UKP4rebVfOm8mjUtsetLedOIv7iG3sDW8P6jXTBpv0Pwvbqi9skA/uLaxIfENWbcmrvWu+8n+7zJ9NREL8HozeVxwK/2v18YSchsrz9kE/Rhe5ZZTBN/G5uk8Wfz4+XeTnWwpe1NgDCoehuD833jO+eY1k70pUPxX8qqNROVMrI4R8HJ1P5PHazT/UxsrmlmGTK+tsV/mVyIfhWzFdJ2PMU0Qd9loWioXFofoyHkyklZeHosbqK59L1nus0pMNlc3Xw1TpF34gZbT6O3hMXpyF+/DGjeLO26QQn5/TyvvHp7zjwl2skR7mmg1/7tD380Keaf5tuLoe1wzxfMp5Oap/geLW1M0t2SLuVTOm8njAh/9j0M5W6eNrU7Z9EPejLZfpsvd96f4ZWraKpiZNkqGsjcFxqCiDWJxILO4urD3zWsme1Og+K/kVRuJujNBB9gZ9XJ1P5PHazT/aa/IYidBpktrqx+nr49Yc0QlOlBxDLJHrSJ/60T4Z3v8eSpsefcYmk3cOseYdwzDtMF674lyjcalxe2+iw9hMhwlHGPZg9OWCzl0q/v3m67ATm7RBRTXTsnOzPPDO3InDsmnPIqzxPTjEbSz6gwJx+m24gT/heeBpvNTN42vN5PGJWfofxa12tjqjF1stZ4XFtKY/p/OMpmL20BJNrLxPxySCYf1zWUme1Og+K/k1X7pvJk0LjklSejcVxQaWbxt3aXxBs3/UByGq7H1BuzJ6YhKS5sIkPkgTJ6c15ZLLCJNlfvlveLkGsafwPqgidlIZN5i2XTaYD+zRQ6Z7VjNtLG5kRVNbIbm9KvGxM3bmPQkEMvS9Jxdb2bHWfqfQaU2Vp6wCfoxb0bblwvF7uI2xVbLNnmj7E2BMahog2Ad2LH3zWkme1Og+a/kVROJSkaStdLyDi9X9zMcmv/7BpYgy8lwovyRrop8rsa2bSxM5m2WYRo90bC4GlsmdQqL8Z3EeAEXzCx3XS+u76YDxiu90uOw2Rx+gRxy621suvba+yPNbwmJk4cyUd9Ikp7D6H988mfSE0Nz+WmZDzQ921ec2XCm/qcwuRA5LRGPE07FATodp/PyelxOR8IJPLKeXm03bxNP+QWbgyTiTPamwBhUMlaang1HkgvL6t43l5nsTYHu/y6v/JN5wylJsjhTq+72iP7PO5fFUUwGppNV6AJ5hisk6SgfP379K1+k/b7xySf0CId6efwsjg+HoNFnDw8/R/MUwMvTz30a5u8Oj9RLaPBzv/KRbNCR077h92h0cLL58WO6cJvmY/BxPh51GZPb6VjBb9oq7RtjCft++kU+u378+OHh0+Dl3eEXHj6N2we+8ckXv/79hxR4cGa2H5ETo/02Fi+6Vv5YG1iCJDzexhYoq/i0Odf/ZmjB/0t8SCfl6mRvCoxB5f1rk70paC2xUWgW+KN89dXX3/pWah5hcNn417/45LOH7+/nbzemcApkYVtvY9mVxaMjvu2xtDHaJr+6Cpe4aGNX4xIf8mm4NtmbAmNQef/aZG8KWktsFJoF8Sipk6UecN74G3/2L/3QD9Hjf/rn/uwPpG1uM14jC9t2G1scCVdgp7UvYnW5XjSn9P7DqlvNv+yUrsXO8r8pWvD/Eh/yabg22ZsCY1B5/9pkbwpaS2wUmgXtKKkZXG389372X6UmF0+Xb1PDi8PD3xK2v2hcwIWc3pqbKLrFgtA3aCWPOMQ1fbf2gf+X07uGLC0HlXtXQV4oaM1/FJqFIUtJxzdk3Zq4huysSwv+964hS8tB5d5VkBcKWvMfhWZhyFLS8Q1ZtyauITvr0oL/vWvI0nJQ1Lcu/EvFCznjj/1a1vOo84Sb//NfK3K/3R+ulJY/K5XwDVm3Jq71rjv8v5zeNWRpOajYxNJf8NMoNLK8UHBF/8NZP52baBTP/PuZHe3qaXCeONl/MsacwKmHHZ5ert8sWwFt7CbA/8vpXUOWloPKvSuSxnmh4Hr+lyf7NN7PpHFJs3panCcU/5frq/njqevPu80n8pfH/JFhiaFKidTMAgTOEPYMdGviWu+6w//L6V1DlpaDKttY+mh1Xii4nv+rc318tb2fyeOCZvW0OE9o/r/ky6vH8m4eZHdnKlyLqX88PVwp4WrsJsD/y+ldQ5aWg0Ibc+TyNjZdjBFH2li4PJmu2J6eelLpXNDGbgL8v5zeNWRpOSi8qeiIxXlC9H/ZZ703/RTvmvjyFH73lqfD5Vg6q788Pr6mNhbeeOXfUPUNWbcmrvWuO/y/nN41ZGk5qOJPPOhaLHS0vFBwRf/pBJ1fYtNJKp649zM72tXT4Dwh+x/2j1di6f3C3KbI2jxf2pwu3UZ/UzHdeirGG+/Z+GlWYZqf8Q1Ztyau9a47/L+c3jVkaTmodBEWz4b4g3sHjjpP3Mb/cUrpq3j3qdS00m2o5vH6Xh6+IevWxLXedYf/l9O7hiwtBxUuw9bkhYLW/EehWRiqlFInS32rHK/xDVm3Jq4hO+vSgv+9a8jSclC5dxXkhYLW/EehWRitlFID248LfEPWrYlryM66tOB/7xqytBxU7l0FeaGgNf9RaBaGLCUd35B1a+IasrMuLfjfu4YsSAxfoKeFIUtJxzdk3Zq4huysSwv+964hCxLDF+hpYchS0vENWbcmriE769KC/71ryILE8AV6Jp4O4Q8i8w87hiwlHd+QdWviGrKzLi3437uGLEgMX6Bn4Olw9/iofHP9kKWk4xuybk1cQ3bWpQX/e9eQBYnhC/RMTewl/j9P7BiylHR8Q9atiWvIzrq04H/vGrIgMXyBnqmJpX/TzJ4hS0nHN2TdmriG7KxLC/73riELEsOXV69n+KXYTI/3OrkSviHr1sS1V5+dlWnB/941ZEFi+AI9J3A1tsI3ZN2auIbsrEsL/veuIQsSwxfoGZhvI4yrsQnfkHVr4hqysy4t+N+7hixIDF+gp4UhS0nHN2TdmriG7KxLC/73riELEsMX6GlhyFLS8Q1ZtyauITvr0oL/vWvIgsTwBXpaGLKUdHxD1q2Ja8jOurTgf+8asiAxfIGeFoYsJR3fkHVr4hrtBgAAALRA7kwcr+41AgAAgJFAGwMAANAxaGMAAAA6Bm0MAABAx6CNAQAA6Bi0MQAAAB2DNgYAAKBj0MYAAAB0DNoYAACAjkEbAwAA0DFoYwAAADoGbQwAAEDHoI0BAADoGLQxAAAAHYM2BgAAoGPQxgAAAHQM2hgAAICOQRsDAADQMWhjAAAAOgZtDAAAQMegjQEAAOgYtDEAAAAdgzYGAACgY9DGAAAAdAzaGAAAgI5BGwMAANAxaGMAAAA6Bm0MAABAx6CNAQAA6Jg3/9Hjf4EHHnjggQcenT7e/JM/+Wd44IEHHnjg0enjze//0Q/wwAMPPPCwP/7oH/yj//5//Fv0/3Lyq1/+t3/j3/lz9gdtX+6Ox9mPN//H7/8RHnjggQce9sf/+ff/4X/79Ov0/3nmt375b/zGv/svfP17B/uDtqe9Zgt4nP1483d/9w/wwAMPPPCwP6iB/fJ/857+P8/8xr/3L379u//mqQ/aa7aAx9mPN7/9O7+HBx544IGH/fGHf/zxv/zyl+j/88xv/Pv/0tcf/vqpD9prtoDH2Y83zy+/iwceeOCBh/3xh3/8g//sP/8F+v888xv/wb/89d/9N9LjZ3/2Z3/mZ37mp37qp/76mp/8yZ/8/PPP/9pf+2t/5a/8lbQl7TVboAft+DciP/3TPz1P/viP/zjtkvaaJ+cH7TJDBz0cDt/5znd+4id+4sd+7MfY7Yd8vPnf/s7v4IEHHnjgYX/8wR/9g4f/+D+l/88zv/G9H/76t//19KB28vXXX//TP/l//+E//r/Lx+//0Q9o1//1b//Oj/7oj6Ytaa/ZAj2ogaUPQv2Tf/b/UTeiGephf/CDf/z3/vgjPT777LNy4/RIx0r8P//0T37wj/6v3/3Dv/+3P/weHYXa2GbjzSMdgv6/odxm/8gbCWw21h+//h/+5X8l8W/913nyF3+qnJk2+Mvf+x/SLv/z9/61eTw9/s7v/P/gvDmtnBGcOAAAAABJRU5ErkJggg==)"
      ]
    },
    {
      "cell_type": "markdown",
      "metadata": {
        "id": "4tATJBQu_1-q"
      },
      "source": [
        "![table2.png](data:image/png;base64,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)"
      ]
    },
    {
      "cell_type": "code",
      "metadata": {
        "colab": {
          "base_uri": "https://localhost:8080/"
        },
        "id": "s3t81LlD6NHg",
        "outputId": "6f5722d4-aa67-4b2e-e4e4-603bee6022f5"
      },
      "source": [
        ""
      ],
      "execution_count": null,
      "outputs": [
        {
          "output_type": "execute_result",
          "data": {
            "text/plain": [
              "947635"
            ]
          },
          "metadata": {
            "tags": []
          },
          "execution_count": 9
        }
      ]
    },
    {
      "cell_type": "code",
      "metadata": {
        "colab": {
          "base_uri": "https://localhost:8080/",
          "height": 284
        },
        "id": "tR3Pc1QEN9wo",
        "outputId": "83120361-c489-40cf-baa3-8888dec98a71"
      },
      "source": [
        "import seaborn as sns\n",
        "sns.set_theme(style=\"whitegrid\")\n",
        "tips = sns.load_dataset(\"tips\")\n",
        "ax = sns.boxplot(x=divar[\"id\"])"
      ],
      "execution_count": null,
      "outputs": [
        {
          "output_type": "display_data",
          "data": {
            "image/png": "[encoded data removed]",
            "text/plain": [
              "<Figure size 432x288 with 1 Axes>"
            ]
          },
          "metadata": {
            "tags": []
          }
        }
      ]
    },
    {
      "cell_type": "code",
      "metadata": {
        "colab": {
          "base_uri": "https://localhost:8080/",
          "height": 284
        },
        "id": "HTEHJfM-RQpj",
        "outputId": "26051b12-e82b-43da-a22f-1c382a8bc92c"
      },
      "source": [
        "sns.set_theme(style=\"whitegrid\")\n",
        "tips = sns.load_dataset(\"tips\")\n",
        "ax = sns.boxplot(x=divar[\"image_count\"])"
      ],
      "execution_count": null,
      "outputs": [
        {
          "output_type": "display_data",
          "data": {
            "image/png": "[encoded data removed]",
            "text/plain": [
              "<Figure size 432x288 with 1 Axes>"
            ]
          },
          "metadata": {
            "tags": []
          }
        }
      ]
    },
    {
      "cell_type": "code",
      "metadata": {
        "colab": {
          "base_uri": "https://localhost:8080/",
          "height": 284
        },
        "id": "UArfPLndRwBi",
        "outputId": "18e02b1a-118c-42de-bce4-6a704a824e6c"
      },
      "source": [
        "sns.set_theme(style=\"whitegrid\")\n",
        "tips = sns.load_dataset(\"tips\")\n",
        "ax = sns.boxplot(x=divar[\"mileage\"])"
      ],
      "execution_count": null,
      "outputs": [
        {
          "output_type": "display_data",
          "data": {
            "image/png": "[encoded data removed]",
            "text/plain": [
              "<Figure size 432x288 with 1 Axes>"
            ]
          },
          "metadata": {
            "tags": []
          }
        }
      ]
    },
    {
      "cell_type": "code",
      "metadata": {
        "colab": {
          "base_uri": "https://localhost:8080/",
          "height": 284
        },
        "id": "hc0sNuqeSDZR",
        "outputId": "a689fa9e-dc2a-4160-dcfb-9f002ae4eef7"
      },
      "source": [
        "sns.set_theme(style=\"whitegrid\")\n",
        "ax = sns.boxplot(x=divar[\"price\"])"
      ],
      "execution_count": null,
      "outputs": [
        {
          "output_type": "display_data",
          "data": {
            "image/png": "[encoded data removed]",
            "text/plain": [
              "<Figure size 432x288 with 1 Axes>"
            ]
          },
          "metadata": {
            "tags": []
          }
        }
      ]
    },
    {
      "cell_type": "code",
      "metadata": {
        "id": "_tKL201gS6q3",
        "colab": {
          "base_uri": "https://localhost:8080/"
        },
        "outputId": "aa87095a-02c2-4717-b317-b8d58684d5e4"
      },
      "source": [
        "divar.shape"
      ],
      "execution_count": null,
      "outputs": [
        {
          "output_type": "execute_result",
          "data": {
            "text/plain": [
              "(7491, 17)"
            ]
          },
          "metadata": {
            "tags": []
          },
          "execution_count": 13
        }
      ]
    },
    {
      "cell_type": "markdown",
      "metadata": {
        "id": "ZXQtaGlRzQ7x"
      },
      "source": [
        "**drop unnamed column**"
      ]
    },
    {
      "cell_type": "code",
      "metadata": {
        "id": "rvfKzv6Ea5rw",
        "colab": {
          "base_uri": "https://localhost:8080/",
          "height": 993
        },
        "outputId": "d1bef8c8-d48b-4b32-8339-acf3635e3870"
      },
      "source": [
        "# divar=divar.drop('Unnamed: 0',axis=1)\n",
        "divar"
      ],
      "execution_count": null,
      "outputs": [
        {
          "output_type": "execute_result",
          "data": {
            "text/html": [
              "<div>\n",
              "<style scoped>\n",
              "    .dataframe tbody tr th:only-of-type {\n",
              "        vertical-align: middle;\n",
              "    }\n",
              "\n",
              "    .dataframe tbody tr th {\n",
              "        vertical-align: top;\n",
              "    }\n",
              "\n",
              "    .dataframe thead th {\n",
              "        text-align: right;\n",
              "    }\n",
              "</style>\n",
              "<table border=\"1\" class=\"dataframe\">\n",
              "  <thead>\n",
              "    <tr style=\"text-align: right;\">\n",
              "      <th></th>\n",
              "      <th>archive_by_user</th>\n",
              "      <th>brand</th>\n",
              "      <th>cat1</th>\n",
              "      <th>cat2</th>\n",
              "      <th>cat3</th>\n",
              "      <th>city</th>\n",
              "      <th>created_at</th>\n",
              "      <th>desc</th>\n",
              "      <th>id</th>\n",
              "      <th>image_count</th>\n",
              "      <th>mileage</th>\n",
              "      <th>platform</th>\n",
              "      <th>price</th>\n",
              "      <th>title</th>\n",
              "      <th>type</th>\n",
              "      <th>year</th>\n",
              "    </tr>\n",
              "  </thead>\n",
              "  <tbody>\n",
              "    <tr>\n",
              "      <th>0</th>\n",
              "      <td>False</td>\n",
              "      <td>NaN</td>\n",
              "      <td>for-the-home</td>\n",
              "      <td>furniture-and-home-decore</td>\n",
              "      <td>sofa-armchair</td>\n",
              "      <td>Tehran</td>\n",
              "      <td>Tuesday 07PM</td>\n",
              "      <td>کلاسیک و شیک و استثنایی\\nچرم مالزی\\nچوب راش\\nف...</td>\n",
              "      <td>54761638662241</td>\n",
              "      <td>5</td>\n",
              "      <td>NaN</td>\n",
              "      <td>mobile</td>\n",
              "      <td>3850000</td>\n",
              "      <td>ست مبلمان و نهارخوری ٩ نفره</td>\n",
              "      <td>NaN</td>\n",
              "      <td>NaN</td>\n",
              "    </tr>\n",
              "    <tr>\n",
              "      <th>1</th>\n",
              "      <td>False</td>\n",
              "      <td>NaN</td>\n",
              "      <td>for-the-home</td>\n",
              "      <td>furniture-and-home-decore</td>\n",
              "      <td>antiques-and-art</td>\n",
              "      <td>Mashhad</td>\n",
              "      <td>Tuesday 07PM</td>\n",
              "      <td>سلام,یک عدد گلدون نخل سه طبقه ی سالم دارم با پ...</td>\n",
              "      <td>42727631379133</td>\n",
              "      <td>1</td>\n",
              "      <td>NaN</td>\n",
              "      <td>mobile</td>\n",
              "      <td>30000</td>\n",
              "      <td>گلدون مصنوعی نخل</td>\n",
              "      <td>NaN</td>\n",
              "      <td>NaN</td>\n",
              "    </tr>\n",
              "    <tr>\n",
              "      <th>2</th>\n",
              "      <td>False</td>\n",
              "      <td>NaN</td>\n",
              "      <td>vehicles</td>\n",
              "      <td>cars</td>\n",
              "      <td>heavy</td>\n",
              "      <td>Mashhad</td>\n",
              "      <td>Tuesday 07PM</td>\n",
              "      <td>سریال 43j$NUMبدون شکستگی سه حلقه لاستیک نو یک ...</td>\n",
              "      <td>63194439667302</td>\n",
              "      <td>4</td>\n",
              "      <td>NaN</td>\n",
              "      <td>mobile</td>\n",
              "      <td>-1</td>\n",
              "      <td>لودر کاتر پیلار 950</td>\n",
              "      <td>NaN</td>\n",
              "      <td>NaN</td>\n",
              "    </tr>\n",
              "    <tr>\n",
              "      <th>3</th>\n",
              "      <td>False</td>\n",
              "      <td>NaN</td>\n",
              "      <td>for-the-home</td>\n",
              "      <td>furniture-and-home-decore</td>\n",
              "      <td>sofa-armchair</td>\n",
              "      <td>Tehran</td>\n",
              "      <td>Tuesday 07PM</td>\n",
              "      <td>مبل راحتی هفت نفره شامل سه نفره یک عدد دونفره ...</td>\n",
              "      <td>19133025491169</td>\n",
              "      <td>4</td>\n",
              "      <td>NaN</td>\n",
              "      <td>mobile</td>\n",
              "      <td>600000</td>\n",
              "      <td>مبل راحتی هفت نفره بامیز جلو مبلی</td>\n",
              "      <td>NaN</td>\n",
              "      <td>NaN</td>\n",
              "    </tr>\n",
              "    <tr>\n",
              "      <th>4</th>\n",
              "      <td>False</td>\n",
              "      <td>NaN</td>\n",
              "      <td>personal</td>\n",
              "      <td>baby-and-toys</td>\n",
              "      <td>personal-toys</td>\n",
              "      <td>Karaj</td>\n",
              "      <td>Tuesday 08PM</td>\n",
              "      <td>شارژی کنترلی سویچ حمل تا 35 کیلو صندلی برای دو...</td>\n",
              "      <td>58998998335444</td>\n",
              "      <td>2</td>\n",
              "      <td>NaN</td>\n",
              "      <td>mobile</td>\n",
              "      <td>450000</td>\n",
              "      <td>ماشین شارژی</td>\n",
              "      <td>NaN</td>\n",
              "      <td>NaN</td>\n",
              "    </tr>\n",
              "    <tr>\n",
              "      <th>...</th>\n",
              "      <td>...</td>\n",
              "      <td>...</td>\n",
              "      <td>...</td>\n",
              "      <td>...</td>\n",
              "      <td>...</td>\n",
              "      <td>...</td>\n",
              "      <td>...</td>\n",
              "      <td>...</td>\n",
              "      <td>...</td>\n",
              "      <td>...</td>\n",
              "      <td>...</td>\n",
              "      <td>...</td>\n",
              "      <td>...</td>\n",
              "      <td>...</td>\n",
              "      <td>...</td>\n",
              "      <td>...</td>\n",
              "    </tr>\n",
              "    <tr>\n",
              "      <th>26036</th>\n",
              "      <td>True</td>\n",
              "      <td>NaN</td>\n",
              "      <td>leisure-hobbies</td>\n",
              "      <td>animals</td>\n",
              "      <td>birds</td>\n",
              "      <td>Mashhad</td>\n",
              "      <td>Sunday 07AM</td>\n",
              "      <td>یک جفت قناری سفید.مادش کاملا سفیده .کشیده و بل...</td>\n",
              "      <td>9042456832158</td>\n",
              "      <td>3</td>\n",
              "      <td>NaN</td>\n",
              "      <td>web</td>\n",
              "      <td>170000</td>\n",
              "      <td>یک جفت قناری سفید</td>\n",
              "      <td>NaN</td>\n",
              "      <td>NaN</td>\n",
              "    </tr>\n",
              "    <tr>\n",
              "      <th>26037</th>\n",
              "      <td>True</td>\n",
              "      <td>NaN</td>\n",
              "      <td>leisure-hobbies</td>\n",
              "      <td>animals</td>\n",
              "      <td>birds</td>\n",
              "      <td>Tehran</td>\n",
              "      <td>Sunday 07AM</td>\n",
              "      <td>قناری  نر میباشد \\nبا یه قفس \\nرنگ ابلغ \\n۱ سالشه</td>\n",
              "      <td>41337552612984</td>\n",
              "      <td>2</td>\n",
              "      <td>NaN</td>\n",
              "      <td>mobile</td>\n",
              "      <td>100000</td>\n",
              "      <td>قناری نر خوش صدا</td>\n",
              "      <td>NaN</td>\n",
              "      <td>NaN</td>\n",
              "    </tr>\n",
              "    <tr>\n",
              "      <th>26038</th>\n",
              "      <td>False</td>\n",
              "      <td>NaN</td>\n",
              "      <td>personal</td>\n",
              "      <td>clothing-and-shoes</td>\n",
              "      <td>clothing</td>\n",
              "      <td>Mashhad</td>\n",
              "      <td>Sunday 07AM</td>\n",
              "      <td>از تهران برام اوردن..رنگش از عکس خوشرنگتره..سا...</td>\n",
              "      <td>26426003220567</td>\n",
              "      <td>1</td>\n",
              "      <td>NaN</td>\n",
              "      <td>mobile</td>\n",
              "      <td>50000</td>\n",
              "      <td>مانتو کار تهران نو</td>\n",
              "      <td>women</td>\n",
              "      <td>NaN</td>\n",
              "    </tr>\n",
              "    <tr>\n",
              "      <th>26039</th>\n",
              "      <td>False</td>\n",
              "      <td>NaN</td>\n",
              "      <td>vehicles</td>\n",
              "      <td>parts-accessories</td>\n",
              "      <td>NaN</td>\n",
              "      <td>Tehran</td>\n",
              "      <td>Sunday 07AM</td>\n",
              "      <td>سلام\\nپنج حلقه$NUMپاترول یا هر شاسی سایز ۱۵ .ه...</td>\n",
              "      <td>32341743538550</td>\n",
              "      <td>2</td>\n",
              "      <td>NaN</td>\n",
              "      <td>mobile</td>\n",
              "      <td>900000</td>\n",
              "      <td>لاستیک اسپرت پاترول</td>\n",
              "      <td>NaN</td>\n",
              "      <td>NaN</td>\n",
              "    </tr>\n",
              "    <tr>\n",
              "      <th>26040</th>\n",
              "      <td>False</td>\n",
              "      <td>NaN</td>\n",
              "      <td>personal</td>\n",
              "      <td>health-beauty</td>\n",
              "      <td>NaN</td>\n",
              "      <td>Tehran</td>\n",
              "      <td>Sunday 07AM</td>\n",
              "      <td>فقط 5 .6 بار استفاده شده\\nدر حد نو\\nتماس با$NUM</td>\n",
              "      <td>8872902871312</td>\n",
              "      <td>1</td>\n",
              "      <td>NaN</td>\n",
              "      <td>mobile</td>\n",
              "      <td>60000</td>\n",
              "      <td>دستگاه فر م</td>\n",
              "      <td>NaN</td>\n",
              "      <td>NaN</td>\n",
              "    </tr>\n",
              "  </tbody>\n",
              "</table>\n",
              "<p>26041 rows × 16 columns</p>\n",
              "</div>"
            ],
            "text/plain": [
              "       archive_by_user brand  ...   type year\n",
              "0                False   NaN  ...    NaN  NaN\n",
              "1                False   NaN  ...    NaN  NaN\n",
              "2                False   NaN  ...    NaN  NaN\n",
              "3                False   NaN  ...    NaN  NaN\n",
              "4                False   NaN  ...    NaN  NaN\n",
              "...                ...   ...  ...    ...  ...\n",
              "26036             True   NaN  ...    NaN  NaN\n",
              "26037             True   NaN  ...    NaN  NaN\n",
              "26038            False   NaN  ...  women  NaN\n",
              "26039            False   NaN  ...    NaN  NaN\n",
              "26040            False   NaN  ...    NaN  NaN\n",
              "\n",
              "[26041 rows x 16 columns]"
            ]
          },
          "metadata": {
            "tags": []
          },
          "execution_count": 20
        }
      ]
    },
    {
      "cell_type": "code",
      "metadata": {
        "colab": {
          "base_uri": "https://localhost:8080/"
        },
        "id": "FR8yyvFnbhfL",
        "outputId": "1e7c2aab-5774-484a-8db5-f54e42dea53f"
      },
      "source": [
        "(divar.isnull()).sum(axis=0)"
      ],
      "execution_count": null,
      "outputs": [
        {
          "output_type": "execute_result",
          "data": {
            "text/plain": [
              "Unnamed: 0              0\n",
              "archive_by_user         0\n",
              "brand              756743\n",
              "cat1                    0\n",
              "cat2                 1758\n",
              "cat3               172334\n",
              "city                    0\n",
              "created_at              0\n",
              "desc                    0\n",
              "id                      0\n",
              "image_count             0\n",
              "mileage            827184\n",
              "platform                0\n",
              "price                   0\n",
              "title                   0\n",
              "type               849106\n",
              "year               827184\n",
              "dtype: int64"
            ]
          },
          "metadata": {
            "tags": []
          },
          "execution_count": 10
        }
      ]
    },
    {
      "cell_type": "code",
      "metadata": {
        "id": "_-D2T4Kr5mUO"
      },
      "source": [
        ""
      ],
      "execution_count": null,
      "outputs": []
    },
    {
      "cell_type": "code",
      "metadata": {
        "colab": {
          "base_uri": "https://localhost:8080/"
        },
        "id": "01GjuTxYdrQy",
        "outputId": "0cdbfef1-6c79-44aa-b5ee-8ed5414f29a6"
      },
      "source": [
        "divar.isnull().sum(axis=1)"
      ],
      "execution_count": null,
      "outputs": [
        {
          "output_type": "execute_result",
          "data": {
            "text/plain": [
              "0         4\n",
              "1         4\n",
              "2         4\n",
              "3         4\n",
              "4         4\n",
              "         ..\n",
              "947630    4\n",
              "947631    4\n",
              "947632    1\n",
              "947633    4\n",
              "947634    4\n",
              "Length: 947635, dtype: int64"
            ]
          },
          "metadata": {
            "tags": []
          },
          "execution_count": 11
        }
      ]
    },
    {
      "cell_type": "markdown",
      "metadata": {
        "id": "yGKVWdEu2U8q"
      },
      "source": [
        "##ravesh aval soal2\n"
      ]
    },
    {
      "cell_type": "code",
      "metadata": {
        "colab": {
          "base_uri": "https://localhost:8080/"
        },
        "id": "GNKUI5dXftIT",
        "outputId": "80af21b7-8506-46fa-e704-d8d0bb02f3b6"
      },
      "source": [
        "divar[divar.notnull().sum(axis=1)==divar.shape[1]].shape[0]/divar.shape[0]"
      ],
      "execution_count": null,
      "outputs": [
        {
          "output_type": "execute_result",
          "data": {
            "text/plain": [
              "0.0"
            ]
          },
          "metadata": {
            "tags": []
          },
          "execution_count": 34
        }
      ]
    },
    {
      "cell_type": "code",
      "metadata": {
        "colab": {
          "base_uri": "https://localhost:8080/"
        },
        "id": "O8vguv3-Afra",
        "outputId": "5ab4a614-465a-4e88-d8d1-91dff60d4de7"
      },
      "source": [
        "divar.size"
      ],
      "execution_count": null,
      "outputs": [
        {
          "output_type": "execute_result",
          "data": {
            "text/plain": [
              "16109795"
            ]
          },
          "metadata": {
            "tags": []
          },
          "execution_count": 36
        }
      ]
    },
    {
      "cell_type": "markdown",
      "metadata": {
        "id": "QQ9ygPx9Ah7p"
      },
      "source": [
        "##ravesh dovom"
      ]
    },
    {
      "cell_type": "code",
      "metadata": {
        "colab": {
          "base_uri": "https://localhost:8080/"
        },
        "id": "-Wk2P42F2O4C",
        "outputId": "976f2f97-9f8f-4ecf-8d62-ce7dc36aaa0e"
      },
      "source": [
        "(divar.size-divar.isna().sum().sum())/divar.size\n"
      ],
      "execution_count": null,
      "outputs": [
        {
          "output_type": "execute_result",
          "data": {
            "text/plain": [
              "0.7868185783866275"
            ]
          },
          "metadata": {
            "tags": []
          },
          "execution_count": 38
        }
      ]
    },
    {
      "cell_type": "markdown",
      "metadata": {
        "id": "McktxMkLA9bn"
      },
      "source": [
        "##ravesh sevom"
      ]
    },
    {
      "cell_type": "code",
      "metadata": {
        "id": "K98Nl1R_BFD9"
      },
      "source": [
        "# انتخاب فیچرهای مورد نیاز و اعمال دوباره آن الگوریتم های بالا"
      ],
      "execution_count": null,
      "outputs": []
    },
    {
      "cell_type": "code",
      "metadata": {
        "colab": {
          "base_uri": "https://localhost:8080/"
        },
        "id": "UsfP1lFfBzOY",
        "outputId": "02a046f3-8d94-44c1-ca5b-e8df42d3194c"
      },
      "source": [
        "divar2=divar[['brand','city','platform','price','title','year','cat3']]\n",
        "#ravesh aval\n",
        "# print((divar2.size-divar2.isna().sum().sum())/divar2.size)\n",
        "#ravesh dovom\n",
        "divar2[divar2.notnull().sum(axis=1)==divar2.shape[1]]\n",
        "\n",
        "divar2[divar2.notnull().sum(axis=1)==divar2.shape[1]].shape[0]/divar2.shape[0]"
      ],
      "execution_count": null,
      "outputs": [
        {
          "output_type": "stream",
          "text": [
            "0.7352414921658355\n"
          ],
          "name": "stdout"
        },
        {
          "output_type": "execute_result",
          "data": {
            "text/plain": [
              "0.12710695573717729"
            ]
          },
          "metadata": {
            "tags": []
          },
          "execution_count": 42
        }
      ]
    },
    {
      "cell_type": "code",
      "metadata": {
        "id": "UCR3mwKdGjVA"
      },
      "source": [
        ""
      ],
      "execution_count": null,
      "outputs": []
    },
    {
      "cell_type": "code",
      "metadata": {
        "id": "dLpPGVEYBG93",
        "colab": {
          "base_uri": "https://localhost:8080/"
        },
        "outputId": "665bbd6e-11e7-4393-b4d5-1663a70a539a"
      },
      "source": [
        "divar['mileage']=divar['mileage'].fillna(divar['mileage'].mean())\n",
        "divar\n",
        "divar['year']=divar['year'].fillna('unknown')\n",
        "divar\n",
        "divar['type']=divar['type'].fillna('unknown')\n",
        "divar.isnull().sum()\n"
      ],
      "execution_count": null,
      "outputs": [
        {
          "output_type": "execute_result",
          "data": {
            "text/plain": [
              "archive_by_user        0\n",
              "brand              20750\n",
              "cat1                   0\n",
              "cat2                  58\n",
              "cat3                4762\n",
              "city                   0\n",
              "created_at             0\n",
              "desc                   0\n",
              "id                     0\n",
              "image_count            0\n",
              "mileage                0\n",
              "platform               0\n",
              "price                  0\n",
              "title                  0\n",
              "type                   0\n",
              "year                   0\n",
              "dtype: int64"
            ]
          },
          "metadata": {
            "tags": []
          },
          "execution_count": 38
        }
      ]
    },
    {
      "cell_type": "code",
      "metadata": {
        "colab": {
          "base_uri": "https://localhost:8080/",
          "height": 993
        },
        "id": "qyB1iJcoH-XV",
        "outputId": "696c1a32-247f-4c6d-b620-9d19bd89c7ca"
      },
      "source": [
        "divar['brand']=divar['brand'].fillna('unknown')\n",
        "divar"
      ],
      "execution_count": null,
      "outputs": [
        {
          "output_type": "execute_result",
          "data": {
            "text/html": [
              "<div>\n",
              "<style scoped>\n",
              "    .dataframe tbody tr th:only-of-type {\n",
              "        vertical-align: middle;\n",
              "    }\n",
              "\n",
              "    .dataframe tbody tr th {\n",
              "        vertical-align: top;\n",
              "    }\n",
              "\n",
              "    .dataframe thead th {\n",
              "        text-align: right;\n",
              "    }\n",
              "</style>\n",
              "<table border=\"1\" class=\"dataframe\">\n",
              "  <thead>\n",
              "    <tr style=\"text-align: right;\">\n",
              "      <th></th>\n",
              "      <th>archive_by_user</th>\n",
              "      <th>brand</th>\n",
              "      <th>cat1</th>\n",
              "      <th>cat2</th>\n",
              "      <th>cat3</th>\n",
              "      <th>city</th>\n",
              "      <th>created_at</th>\n",
              "      <th>desc</th>\n",
              "      <th>id</th>\n",
              "      <th>image_count</th>\n",
              "      <th>mileage</th>\n",
              "      <th>platform</th>\n",
              "      <th>price</th>\n",
              "      <th>title</th>\n",
              "      <th>type</th>\n",
              "      <th>year</th>\n",
              "    </tr>\n",
              "  </thead>\n",
              "  <tbody>\n",
              "    <tr>\n",
              "      <th>0</th>\n",
              "      <td>False</td>\n",
              "      <td>unknown</td>\n",
              "      <td>for-the-home</td>\n",
              "      <td>furniture-and-home-decore</td>\n",
              "      <td>sofa-armchair</td>\n",
              "      <td>Tehran</td>\n",
              "      <td>Tuesday 07PM</td>\n",
              "      <td>کلاسیک و شیک و استثنایی\\nچرم مالزی\\nچوب راش\\nف...</td>\n",
              "      <td>54761638662241</td>\n",
              "      <td>5</td>\n",
              "      <td>102102.030042</td>\n",
              "      <td>mobile</td>\n",
              "      <td>3850000</td>\n",
              "      <td>ست مبلمان و نهارخوری ٩ نفره</td>\n",
              "      <td>unknown</td>\n",
              "      <td>unknown</td>\n",
              "    </tr>\n",
              "    <tr>\n",
              "      <th>1</th>\n",
              "      <td>False</td>\n",
              "      <td>unknown</td>\n",
              "      <td>for-the-home</td>\n",
              "      <td>furniture-and-home-decore</td>\n",
              "      <td>antiques-and-art</td>\n",
              "      <td>Mashhad</td>\n",
              "      <td>Tuesday 07PM</td>\n",
              "      <td>سلام,یک عدد گلدون نخل سه طبقه ی سالم دارم با پ...</td>\n",
              "      <td>42727631379133</td>\n",
              "      <td>1</td>\n",
              "      <td>102102.030042</td>\n",
              "      <td>mobile</td>\n",
              "      <td>30000</td>\n",
              "      <td>گلدون مصنوعی نخل</td>\n",
              "      <td>unknown</td>\n",
              "      <td>unknown</td>\n",
              "    </tr>\n",
              "    <tr>\n",
              "      <th>2</th>\n",
              "      <td>False</td>\n",
              "      <td>unknown</td>\n",
              "      <td>vehicles</td>\n",
              "      <td>cars</td>\n",
              "      <td>heavy</td>\n",
              "      <td>Mashhad</td>\n",
              "      <td>Tuesday 07PM</td>\n",
              "      <td>سریال 43j$NUMبدون شکستگی سه حلقه لاستیک نو یک ...</td>\n",
              "      <td>63194439667302</td>\n",
              "      <td>4</td>\n",
              "      <td>102102.030042</td>\n",
              "      <td>mobile</td>\n",
              "      <td>-1</td>\n",
              "      <td>لودر کاتر پیلار 950</td>\n",
              "      <td>unknown</td>\n",
              "      <td>unknown</td>\n",
              "    </tr>\n",
              "    <tr>\n",
              "      <th>3</th>\n",
              "      <td>False</td>\n",
              "      <td>unknown</td>\n",
              "      <td>for-the-home</td>\n",
              "      <td>furniture-and-home-decore</td>\n",
              "      <td>sofa-armchair</td>\n",
              "      <td>Tehran</td>\n",
              "      <td>Tuesday 07PM</td>\n",
              "      <td>مبل راحتی هفت نفره شامل سه نفره یک عدد دونفره ...</td>\n",
              "      <td>19133025491169</td>\n",
              "      <td>4</td>\n",
              "      <td>102102.030042</td>\n",
              "      <td>mobile</td>\n",
              "      <td>600000</td>\n",
              "      <td>مبل راحتی هفت نفره بامیز جلو مبلی</td>\n",
              "      <td>unknown</td>\n",
              "      <td>unknown</td>\n",
              "    </tr>\n",
              "    <tr>\n",
              "      <th>4</th>\n",
              "      <td>False</td>\n",
              "      <td>unknown</td>\n",
              "      <td>personal</td>\n",
              "      <td>baby-and-toys</td>\n",
              "      <td>personal-toys</td>\n",
              "      <td>Karaj</td>\n",
              "      <td>Tuesday 08PM</td>\n",
              "      <td>شارژی کنترلی سویچ حمل تا 35 کیلو صندلی برای دو...</td>\n",
              "      <td>58998998335444</td>\n",
              "      <td>2</td>\n",
              "      <td>102102.030042</td>\n",
              "      <td>mobile</td>\n",
              "      <td>450000</td>\n",
              "      <td>ماشین شارژی</td>\n",
              "      <td>unknown</td>\n",
              "      <td>unknown</td>\n",
              "    </tr>\n",
              "    <tr>\n",
              "      <th>...</th>\n",
              "      <td>...</td>\n",
              "      <td>...</td>\n",
              "      <td>...</td>\n",
              "      <td>...</td>\n",
              "      <td>...</td>\n",
              "      <td>...</td>\n",
              "      <td>...</td>\n",
              "      <td>...</td>\n",
              "      <td>...</td>\n",
              "      <td>...</td>\n",
              "      <td>...</td>\n",
              "      <td>...</td>\n",
              "      <td>...</td>\n",
              "      <td>...</td>\n",
              "      <td>...</td>\n",
              "      <td>...</td>\n",
              "    </tr>\n",
              "    <tr>\n",
              "      <th>26036</th>\n",
              "      <td>True</td>\n",
              "      <td>unknown</td>\n",
              "      <td>leisure-hobbies</td>\n",
              "      <td>animals</td>\n",
              "      <td>birds</td>\n",
              "      <td>Mashhad</td>\n",
              "      <td>Sunday 07AM</td>\n",
              "      <td>یک جفت قناری سفید.مادش کاملا سفیده .کشیده و بل...</td>\n",
              "      <td>9042456832158</td>\n",
              "      <td>3</td>\n",
              "      <td>102102.030042</td>\n",
              "      <td>web</td>\n",
              "      <td>170000</td>\n",
              "      <td>یک جفت قناری سفید</td>\n",
              "      <td>unknown</td>\n",
              "      <td>unknown</td>\n",
              "    </tr>\n",
              "    <tr>\n",
              "      <th>26037</th>\n",
              "      <td>True</td>\n",
              "      <td>unknown</td>\n",
              "      <td>leisure-hobbies</td>\n",
              "      <td>animals</td>\n",
              "      <td>birds</td>\n",
              "      <td>Tehran</td>\n",
              "      <td>Sunday 07AM</td>\n",
              "      <td>قناری  نر میباشد \\nبا یه قفس \\nرنگ ابلغ \\n۱ سالشه</td>\n",
              "      <td>41337552612984</td>\n",
              "      <td>2</td>\n",
              "      <td>102102.030042</td>\n",
              "      <td>mobile</td>\n",
              "      <td>100000</td>\n",
              "      <td>قناری نر خوش صدا</td>\n",
              "      <td>unknown</td>\n",
              "      <td>unknown</td>\n",
              "    </tr>\n",
              "    <tr>\n",
              "      <th>26038</th>\n",
              "      <td>False</td>\n",
              "      <td>unknown</td>\n",
              "      <td>personal</td>\n",
              "      <td>clothing-and-shoes</td>\n",
              "      <td>clothing</td>\n",
              "      <td>Mashhad</td>\n",
              "      <td>Sunday 07AM</td>\n",
              "      <td>از تهران برام اوردن..رنگش از عکس خوشرنگتره..سا...</td>\n",
              "      <td>26426003220567</td>\n",
              "      <td>1</td>\n",
              "      <td>102102.030042</td>\n",
              "      <td>mobile</td>\n",
              "      <td>50000</td>\n",
              "      <td>مانتو کار تهران نو</td>\n",
              "      <td>women</td>\n",
              "      <td>unknown</td>\n",
              "    </tr>\n",
              "    <tr>\n",
              "      <th>26039</th>\n",
              "      <td>False</td>\n",
              "      <td>unknown</td>\n",
              "      <td>vehicles</td>\n",
              "      <td>parts-accessories</td>\n",
              "      <td>NaN</td>\n",
              "      <td>Tehran</td>\n",
              "      <td>Sunday 07AM</td>\n",
              "      <td>سلام\\nپنج حلقه$NUMپاترول یا هر شاسی سایز ۱۵ .ه...</td>\n",
              "      <td>32341743538550</td>\n",
              "      <td>2</td>\n",
              "      <td>102102.030042</td>\n",
              "      <td>mobile</td>\n",
              "      <td>900000</td>\n",
              "      <td>لاستیک اسپرت پاترول</td>\n",
              "      <td>unknown</td>\n",
              "      <td>unknown</td>\n",
              "    </tr>\n",
              "    <tr>\n",
              "      <th>26040</th>\n",
              "      <td>False</td>\n",
              "      <td>unknown</td>\n",
              "      <td>personal</td>\n",
              "      <td>health-beauty</td>\n",
              "      <td>NaN</td>\n",
              "      <td>Tehran</td>\n",
              "      <td>Sunday 07AM</td>\n",
              "      <td>فقط 5 .6 بار استفاده شده\\nدر حد نو\\nتماس با$NUM</td>\n",
              "      <td>8872902871312</td>\n",
              "      <td>1</td>\n",
              "      <td>102102.030042</td>\n",
              "      <td>mobile</td>\n",
              "      <td>60000</td>\n",
              "      <td>دستگاه فر م</td>\n",
              "      <td>unknown</td>\n",
              "      <td>unknown</td>\n",
              "    </tr>\n",
              "  </tbody>\n",
              "</table>\n",
              "<p>26041 rows × 16 columns</p>\n",
              "</div>"
            ],
            "text/plain": [
              "       archive_by_user    brand  ...     type     year\n",
              "0                False  unknown  ...  unknown  unknown\n",
              "1                False  unknown  ...  unknown  unknown\n",
              "2                False  unknown  ...  unknown  unknown\n",
              "3                False  unknown  ...  unknown  unknown\n",
              "4                False  unknown  ...  unknown  unknown\n",
              "...                ...      ...  ...      ...      ...\n",
              "26036             True  unknown  ...  unknown  unknown\n",
              "26037             True  unknown  ...  unknown  unknown\n",
              "26038            False  unknown  ...    women  unknown\n",
              "26039            False  unknown  ...  unknown  unknown\n",
              "26040            False  unknown  ...  unknown  unknown\n",
              "\n",
              "[26041 rows x 16 columns]"
            ]
          },
          "metadata": {
            "tags": []
          },
          "execution_count": 41
        }
      ]
    },
    {
      "cell_type": "code",
      "metadata": {
        "colab": {
          "base_uri": "https://localhost:8080/"
        },
        "id": "FtI1cts6JMyq",
        "outputId": "9d3d7edd-c484-4adb-c0da-61d8025110bc"
      },
      "source": [
        "divar.isnull().sum()"
      ],
      "execution_count": null,
      "outputs": [
        {
          "output_type": "execute_result",
          "data": {
            "text/plain": [
              "archive_by_user       0\n",
              "brand                 0\n",
              "cat1                  0\n",
              "cat2                 58\n",
              "cat3               4762\n",
              "city                  0\n",
              "created_at            0\n",
              "desc                  0\n",
              "id                    0\n",
              "image_count           0\n",
              "mileage               0\n",
              "platform              0\n",
              "price                 0\n",
              "title                 0\n",
              "type                  0\n",
              "year                  0\n",
              "dtype: int64"
            ]
          },
          "metadata": {
            "tags": []
          },
          "execution_count": 42
        }
      ]
    },
    {
      "cell_type": "code",
      "metadata": {
        "colab": {
          "base_uri": "https://localhost:8080/"
        },
        "id": "-M8tifccKUeH",
        "outputId": "617af76e-b674-44ea-95b8-e4ce37862167"
      },
      "source": [
        "divar['cat2']=divar['cat2'].fillna('unknown')\n",
        "divar['cat3']=divar['cat3'].fillna('unknown')\n",
        "divar.isnull().sum()"
      ],
      "execution_count": null,
      "outputs": [
        {
          "output_type": "execute_result",
          "data": {
            "text/plain": [
              "archive_by_user    0\n",
              "brand              0\n",
              "cat1               0\n",
              "cat2               0\n",
              "cat3               0\n",
              "city               0\n",
              "created_at         0\n",
              "desc               0\n",
              "id                 0\n",
              "image_count        0\n",
              "mileage            0\n",
              "platform           0\n",
              "price              0\n",
              "title              0\n",
              "type               0\n",
              "year               0\n",
              "dtype: int64"
            ]
          },
          "metadata": {
            "tags": []
          },
          "execution_count": 46
        }
      ]
    },
    {
      "cell_type": "markdown",
      "metadata": {
        "id": "YBB4rfBPPx6K"
      },
      "source": [
        "##soal5\n"
      ]
    },
    {
      "cell_type": "code",
      "metadata": {
        "colab": {
          "base_uri": "https://localhost:8080/",
          "height": 993
        },
        "id": "sau_Q4ufMu-j",
        "outputId": "2f08da5e-98fc-4512-ed85-5a91bfb65024"
      },
      "source": [
        "#پیش بینی قیمت کالا براساس قیمت های داخل دیتا ست \n",
        "# وپیش بینی میزان فروش آگهی\n",
        "#پیش بینی موضوع آگهی های شهر تهران برای پیشنهاد دادن به صورت خودکار به شهروند  مربوط به شهر خاص\n",
        "#     پیش بینی قیمت کالای دسته دوم مثل ست مبلمان\n",
        "#پیش بینی برند های پر فروش سال\n",
        "#تاثیر برند روی خرید\n",
        "#پیش بینی   قیمت برند کالاهای مختلف براساس قیمت\n",
        "# پیش بینی تاثیر زمان آگهی روی خرید\n",
        "# پیش بینی آگهی های پرطرفدار\n",
        "# پیش بینی برند پر در امد\n",
        "#پیش بینی مکان پرطرفدار خونه\n",
        "# ماشین پرفروش سال\n",
        "# بهبود خدمات با توجه به بیشترین پلت فورم مورد استفاده\n",
        "#پیش بینی برند کالا"
      ],
      "execution_count": null,
      "outputs": [
        {
          "output_type": "execute_result",
          "data": {
            "text/html": [
              "<div>\n",
              "<style scoped>\n",
              "    .dataframe tbody tr th:only-of-type {\n",
              "        vertical-align: middle;\n",
              "    }\n",
              "\n",
              "    .dataframe tbody tr th {\n",
              "        vertical-align: top;\n",
              "    }\n",
              "\n",
              "    .dataframe thead th {\n",
              "        text-align: right;\n",
              "    }\n",
              "</style>\n",
              "<table border=\"1\" class=\"dataframe\">\n",
              "  <thead>\n",
              "    <tr style=\"text-align: right;\">\n",
              "      <th></th>\n",
              "      <th>archive_by_user</th>\n",
              "      <th>brand</th>\n",
              "      <th>cat1</th>\n",
              "      <th>cat2</th>\n",
              "      <th>cat3</th>\n",
              "      <th>city</th>\n",
              "      <th>created_at</th>\n",
              "      <th>desc</th>\n",
              "      <th>id</th>\n",
              "      <th>image_count</th>\n",
              "      <th>mileage</th>\n",
              "      <th>platform</th>\n",
              "      <th>price</th>\n",
              "      <th>title</th>\n",
              "      <th>type</th>\n",
              "      <th>year</th>\n",
              "    </tr>\n",
              "  </thead>\n",
              "  <tbody>\n",
              "    <tr>\n",
              "      <th>0</th>\n",
              "      <td>False</td>\n",
              "      <td>unknown</td>\n",
              "      <td>for-the-home</td>\n",
              "      <td>furniture-and-home-decore</td>\n",
              "      <td>sofa-armchair</td>\n",
              "      <td>Tehran</td>\n",
              "      <td>Tuesday 07PM</td>\n",
              "      <td>کلاسیک و شیک و استثنایی\\nچرم مالزی\\nچوب راش\\nف...</td>\n",
              "      <td>54761638662241</td>\n",
              "      <td>5</td>\n",
              "      <td>102102.030042</td>\n",
              "      <td>mobile</td>\n",
              "      <td>3850000</td>\n",
              "      <td>ست مبلمان و نهارخوری ٩ نفره</td>\n",
              "      <td>unknown</td>\n",
              "      <td>unknown</td>\n",
              "    </tr>\n",
              "    <tr>\n",
              "      <th>1</th>\n",
              "      <td>False</td>\n",
              "      <td>unknown</td>\n",
              "      <td>for-the-home</td>\n",
              "      <td>furniture-and-home-decore</td>\n",
              "      <td>antiques-and-art</td>\n",
              "      <td>Mashhad</td>\n",
              "      <td>Tuesday 07PM</td>\n",
              "      <td>سلام,یک عدد گلدون نخل سه طبقه ی سالم دارم با پ...</td>\n",
              "      <td>42727631379133</td>\n",
              "      <td>1</td>\n",
              "      <td>102102.030042</td>\n",
              "      <td>mobile</td>\n",
              "      <td>30000</td>\n",
              "      <td>گلدون مصنوعی نخل</td>\n",
              "      <td>unknown</td>\n",
              "      <td>unknown</td>\n",
              "    </tr>\n",
              "    <tr>\n",
              "      <th>2</th>\n",
              "      <td>False</td>\n",
              "      <td>unknown</td>\n",
              "      <td>vehicles</td>\n",
              "      <td>cars</td>\n",
              "      <td>heavy</td>\n",
              "      <td>Mashhad</td>\n",
              "      <td>Tuesday 07PM</td>\n",
              "      <td>سریال 43j$NUMبدون شکستگی سه حلقه لاستیک نو یک ...</td>\n",
              "      <td>63194439667302</td>\n",
              "      <td>4</td>\n",
              "      <td>102102.030042</td>\n",
              "      <td>mobile</td>\n",
              "      <td>-1</td>\n",
              "      <td>لودر کاتر پیلار 950</td>\n",
              "      <td>unknown</td>\n",
              "      <td>unknown</td>\n",
              "    </tr>\n",
              "    <tr>\n",
              "      <th>3</th>\n",
              "      <td>False</td>\n",
              "      <td>unknown</td>\n",
              "      <td>for-the-home</td>\n",
              "      <td>furniture-and-home-decore</td>\n",
              "      <td>sofa-armchair</td>\n",
              "      <td>Tehran</td>\n",
              "      <td>Tuesday 07PM</td>\n",
              "      <td>مبل راحتی هفت نفره شامل سه نفره یک عدد دونفره ...</td>\n",
              "      <td>19133025491169</td>\n",
              "      <td>4</td>\n",
              "      <td>102102.030042</td>\n",
              "      <td>mobile</td>\n",
              "      <td>600000</td>\n",
              "      <td>مبل راحتی هفت نفره بامیز جلو مبلی</td>\n",
              "      <td>unknown</td>\n",
              "      <td>unknown</td>\n",
              "    </tr>\n",
              "    <tr>\n",
              "      <th>4</th>\n",
              "      <td>False</td>\n",
              "      <td>unknown</td>\n",
              "      <td>personal</td>\n",
              "      <td>baby-and-toys</td>\n",
              "      <td>personal-toys</td>\n",
              "      <td>Karaj</td>\n",
              "      <td>Tuesday 08PM</td>\n",
              "      <td>شارژی کنترلی سویچ حمل تا 35 کیلو صندلی برای دو...</td>\n",
              "      <td>58998998335444</td>\n",
              "      <td>2</td>\n",
              "      <td>102102.030042</td>\n",
              "      <td>mobile</td>\n",
              "      <td>450000</td>\n",
              "      <td>ماشین شارژی</td>\n",
              "      <td>unknown</td>\n",
              "      <td>unknown</td>\n",
              "    </tr>\n",
              "    <tr>\n",
              "      <th>...</th>\n",
              "      <td>...</td>\n",
              "      <td>...</td>\n",
              "      <td>...</td>\n",
              "      <td>...</td>\n",
              "      <td>...</td>\n",
              "      <td>...</td>\n",
              "      <td>...</td>\n",
              "      <td>...</td>\n",
              "      <td>...</td>\n",
              "      <td>...</td>\n",
              "      <td>...</td>\n",
              "      <td>...</td>\n",
              "      <td>...</td>\n",
              "      <td>...</td>\n",
              "      <td>...</td>\n",
              "      <td>...</td>\n",
              "    </tr>\n",
              "    <tr>\n",
              "      <th>26036</th>\n",
              "      <td>True</td>\n",
              "      <td>unknown</td>\n",
              "      <td>leisure-hobbies</td>\n",
              "      <td>animals</td>\n",
              "      <td>birds</td>\n",
              "      <td>Mashhad</td>\n",
              "      <td>Sunday 07AM</td>\n",
              "      <td>یک جفت قناری سفید.مادش کاملا سفیده .کشیده و بل...</td>\n",
              "      <td>9042456832158</td>\n",
              "      <td>3</td>\n",
              "      <td>102102.030042</td>\n",
              "      <td>web</td>\n",
              "      <td>170000</td>\n",
              "      <td>یک جفت قناری سفید</td>\n",
              "      <td>unknown</td>\n",
              "      <td>unknown</td>\n",
              "    </tr>\n",
              "    <tr>\n",
              "      <th>26037</th>\n",
              "      <td>True</td>\n",
              "      <td>unknown</td>\n",
              "      <td>leisure-hobbies</td>\n",
              "      <td>animals</td>\n",
              "      <td>birds</td>\n",
              "      <td>Tehran</td>\n",
              "      <td>Sunday 07AM</td>\n",
              "      <td>قناری  نر میباشد \\nبا یه قفس \\nرنگ ابلغ \\n۱ سالشه</td>\n",
              "      <td>41337552612984</td>\n",
              "      <td>2</td>\n",
              "      <td>102102.030042</td>\n",
              "      <td>mobile</td>\n",
              "      <td>100000</td>\n",
              "      <td>قناری نر خوش صدا</td>\n",
              "      <td>unknown</td>\n",
              "      <td>unknown</td>\n",
              "    </tr>\n",
              "    <tr>\n",
              "      <th>26038</th>\n",
              "      <td>False</td>\n",
              "      <td>unknown</td>\n",
              "      <td>personal</td>\n",
              "      <td>clothing-and-shoes</td>\n",
              "      <td>clothing</td>\n",
              "      <td>Mashhad</td>\n",
              "      <td>Sunday 07AM</td>\n",
              "      <td>از تهران برام اوردن..رنگش از عکس خوشرنگتره..سا...</td>\n",
              "      <td>26426003220567</td>\n",
              "      <td>1</td>\n",
              "      <td>102102.030042</td>\n",
              "      <td>mobile</td>\n",
              "      <td>50000</td>\n",
              "      <td>مانتو کار تهران نو</td>\n",
              "      <td>women</td>\n",
              "      <td>unknown</td>\n",
              "    </tr>\n",
              "    <tr>\n",
              "      <th>26039</th>\n",
              "      <td>False</td>\n",
              "      <td>unknown</td>\n",
              "      <td>vehicles</td>\n",
              "      <td>parts-accessories</td>\n",
              "      <td>unknown</td>\n",
              "      <td>Tehran</td>\n",
              "      <td>Sunday 07AM</td>\n",
              "      <td>سلام\\nپنج حلقه$NUMپاترول یا هر شاسی سایز ۱۵ .ه...</td>\n",
              "      <td>32341743538550</td>\n",
              "      <td>2</td>\n",
              "      <td>102102.030042</td>\n",
              "      <td>mobile</td>\n",
              "      <td>900000</td>\n",
              "      <td>لاستیک اسپرت پاترول</td>\n",
              "      <td>unknown</td>\n",
              "      <td>unknown</td>\n",
              "    </tr>\n",
              "    <tr>\n",
              "      <th>26040</th>\n",
              "      <td>False</td>\n",
              "      <td>unknown</td>\n",
              "      <td>personal</td>\n",
              "      <td>health-beauty</td>\n",
              "      <td>unknown</td>\n",
              "      <td>Tehran</td>\n",
              "      <td>Sunday 07AM</td>\n",
              "      <td>فقط 5 .6 بار استفاده شده\\nدر حد نو\\nتماس با$NUM</td>\n",
              "      <td>8872902871312</td>\n",
              "      <td>1</td>\n",
              "      <td>102102.030042</td>\n",
              "      <td>mobile</td>\n",
              "      <td>60000</td>\n",
              "      <td>دستگاه فر م</td>\n",
              "      <td>unknown</td>\n",
              "      <td>unknown</td>\n",
              "    </tr>\n",
              "  </tbody>\n",
              "</table>\n",
              "<p>26041 rows × 16 columns</p>\n",
              "</div>"
            ],
            "text/plain": [
              "       archive_by_user    brand  ...     type     year\n",
              "0                False  unknown  ...  unknown  unknown\n",
              "1                False  unknown  ...  unknown  unknown\n",
              "2                False  unknown  ...  unknown  unknown\n",
              "3                False  unknown  ...  unknown  unknown\n",
              "4                False  unknown  ...  unknown  unknown\n",
              "...                ...      ...  ...      ...      ...\n",
              "26036             True  unknown  ...  unknown  unknown\n",
              "26037             True  unknown  ...  unknown  unknown\n",
              "26038            False  unknown  ...    women  unknown\n",
              "26039            False  unknown  ...  unknown  unknown\n",
              "26040            False  unknown  ...  unknown  unknown\n",
              "\n",
              "[26041 rows x 16 columns]"
            ]
          },
          "metadata": {
            "tags": []
          },
          "execution_count": 47
        }
      ]
    },
    {
      "cell_type": "code",
      "metadata": {
        "id": "1FU4sDg3e4KM"
      },
      "source": [
        ""
      ],
      "execution_count": null,
      "outputs": []
    },
    {
      "cell_type": "markdown",
      "metadata": {
        "id": "5HywuZqCftwR"
      },
      "source": [
        "##soal sevom\n"
      ]
    },
    {
      "cell_type": "markdown",
      "metadata": {
        "id": "SZwADxNrV2XC"
      },
      "source": [
        "برای تعیین میزان صحت داده ها به صورت خودکار اول باید بگم که هرداده صحیحی حتما ولید هم هست اما برعکس آن درست نیست \n",
        "اما برای تشخیص خودکار میزان صحت داده های هر فیچر به صورت جدا بررسی میکنیم:\n",
        "میدانیم بررسی صحت داده ها هم از نظر معنایی و هم گرامری میباشد "
      ]
    },
    {
      "cell_type": "code",
      "metadata": {
        "id": "sPgzVAictn4F"
      },
      "source": [
        "#unnamed:\n",
        "'''\n",
        "از نظر معنایی باید شماره ها به ترتیب باشد و صعودی \n",
        "\n",
        "'''\n",
        "#archive_by_user\t\n",
        "'''\n",
        "\n",
        "هر داده نامعتبری جزو داده های ناصحیح محسوب میشه\n",
        "و اگر هم از نظر گرامری ناصحیح باشد و املای یک داده نامعتبر است که ناصحیح خواهد بود\n",
        "و از نظر معنایی هم با دیتابیس مقدار آن را چک کنبم\n",
        "\n",
        "'''\n",
        "#brand\n",
        "'''\n",
        "یک لیستی از برندهای معتبر داشته باشیم با آن ها چک شود که آیا صحت دارد یا نه\n",
        "'''\n",
        "#cat1,cat2,cat3\n",
        "'''برای مثال  برای cat1\n",
        "یک سری لیست اسامی باید داشته باشیم \n",
        "که فقط باید همونارو  وارد میکردن \n",
        "personal ,vehicle , for home ,business\n",
        "\n",
        "'''\n",
        "#city\n",
        "'''\n",
        "با لیست که اماده داریم از شهر ها باید مقایسه کنیم و اگر جزو اون ها نبود پس ناصحیح بوده\n",
        "'''\n",
        "#created_at\n",
        "'''\n",
        "با زمان ثبت شده توسط سیستم مقایسه شود برای تشخیص زمان روز صحیح بودن آن\n",
        "'''\n",
        "#desc\n",
        "'''\n",
        "فقط همون اگر نامعتبر باشد پس ناصحیح هم هست \n",
        "با یک سری تکنیک های متن کاوی موضوع متن رو تشخیص بدیم \n",
        "که درباره فروش چیزی باشه\n",
        "یا یک سری کلمه کلیدی داخل آن باشد \n",
        "'''\n",
        "#id\n",
        "'''باید یونیک باشه و تکراری نباشه و تو بازه مقادیر \n",
        "67279477402480.0\n",
        "باشه\n",
        "'''\n",
        "#image_count\n",
        "'''\n",
        "اگر داده نامعتبر بود پس ناصحیح هم هست\n",
        "\n",
        "'''\n",
        "#paltform\n",
        "'''\n",
        "باید یا موبایل باشه و یا وب \n",
        "و درمورد صحیح بودن آن هم بیایم چک کنیم لاگ های سیستم و نوع سیستمی که متصل شده و مقایسه کنیم\n",
        "'''\n",
        "#price\n",
        "'''\n",
        "اگر نامعتبر بود نا صحیح نیز هست\n",
        "'''\n",
        "#type\n",
        "'''\n",
        "بیایم باز با یه لیست مقایسه کنیم شامل men  و boys,women,girls\n",
        "'''\n",
        "#year\n",
        "'''\n",
        "از سال حال بالاتر نباشه \n",
        "مثلا الان 1400\n",
        "'''\n",
        "#نکته اول\n",
        "'''\n",
        "اول اینکه اگه داده نا معتبر باشه  پس نا صحیح هم هست \n",
        "'''\n"
      ],
      "execution_count": null,
      "outputs": []
    },
    {
      "cell_type": "markdown",
      "metadata": {
        "id": "WH6NVUtdtqCV"
      },
      "source": [
        "میدانیم که صحیح بودن داده ها بسته به هم از نظر سیتکس و هم معنایی میباشد یرای تشخیص خودکار صحیح بودن داده ها  میتوان جلوی آن را هنگام ورود گرفت "
      ]
    },
    {
      "cell_type": "markdown",
      "metadata": {
        "id": "aEC531Z3BG8E"
      },
      "source": [
        "##soal2"
      ]
    },
    {
      "cell_type": "markdown",
      "metadata": {
        "id": "W75skgvGDPDX"
      },
      "source": [
        "برای تشخیص معتبر بودن  باید یک سری قوانین تعریف کنیم که در زیر برای هر فیچر قوانین معتبر بودن آن داده را بیان میکینم:\n"
      ]
    },
    {
      "cell_type": "code",
      "metadata": {
        "id": "s8DZBvvGBF3K"
      },
      "source": [
        "# و برای هر کدام از فیچرها جدا در نظر میگیریم \n",
        "#archive_by_user\t:  \n",
        "''' bayad boolean bashad va joz true false ghabel ghabool nist! chon tavasot system anjam mishavad'''\n",
        "#unnamed:\n",
        "''' bayad int64 va namanfi bashad'''\n",
        "#Brand,cat1,cat2,cat3,title,city,platform, type:  \n",
        "'''     برای موارد بالا چون نوع داده های ما ابجکت است و همه آن ها باید رشته باشد از حروف الفبای انگلیسی  و شامل علایم  \n",
        "     مختلف مثل (?,/#,@,*,%,!)\n",
        "     نباشد اگر این موارد نامعتبر دیدیم به عنوان ارور در نظر بگیریم و \n",
        "     از try catch استفاده کنیم\n",
        "    \n",
        "'''\n",
        "# created_at:\n",
        "'''  باید به صورت رشته شامل حروف اگلیسی و همین طور عدد و همه علایم نامعتبر است به غیر از : و در فرمت روز وبعد آن زمان آن ثبت شده باشد  وبه غیر این بود یه شکل ارور در نظر میگیریم \n",
        "و ایگنور میکینم \n",
        "و زمان هم باید در قالب 12 ساعته باشه\n",
        "'''\n",
        "#desc,title\n",
        "'''  باید به صورت رشته باشد \n",
        "از حروف الفبای فارسی و انگلیسی و عدد\n",
        "\n",
        "'''\n",
        "# title:\n",
        "'''\n",
        "30حرف باشه حدااکثر\n",
        "'''\n",
        "#id\n",
        "'''بایدfloat64\n",
        "و عددی ومثبت باشد\n",
        "حدااقل 10رقم\n",
        "'''\n",
        "#img_count\n",
        "'''\n",
        "باید عددی و صحیح نامنفی باشد\n",
        "'''\n",
        "#mileage\t,price\n",
        "''' به صورت اعشاری و و نامنفی\n",
        "'''\n",
        "#year\n",
        "'''باید عدد صحیح مثبت و 4 رقمی باشد\n",
        "'''\n",
        "#برخورد با داده های نا معتبر  میتوان حذف کنیم یا به عنوان ارور در نظر بگیریم و کچ کنیم\n",
        "# برای تحلیل هم باید کد آن را بزنیم که برای هر کدام از موارد که ولید نبود تعدادشون رو حساب  میکنین و تقسیم بر کل احتمال و میزان نامعتبر بوذن هر ستون مشخص میشود.\n",
        "# مثلا در ستون قیمت ما داده منفی داریم "
      ],
      "execution_count": null,
      "outputs": []
    },
    {
      "cell_type": "code",
      "metadata": {
        "id": "sy5VO52fVzSO"
      },
      "source": [
        ""
      ],
      "execution_count": null,
      "outputs": []
    },
    {
      "cell_type": "code",
      "metadata": {
        "colab": {
          "base_uri": "https://localhost:8080/"
        },
        "id": "XTZmyrK1BGNN",
        "outputId": "d76e0cba-64ea-46dc-c384-8308b891ced5"
      },
      "source": [
        "(divar.loc[0,'id'])"
      ],
      "execution_count": null,
      "outputs": [
        {
          "output_type": "execute_result",
          "data": {
            "text/plain": [
              "54761638662241.0"
            ]
          },
          "metadata": {
            "tags": []
          },
          "execution_count": 45
        }
      ]
    },
    {
      "cell_type": "code",
      "metadata": {
        "colab": {
          "base_uri": "https://localhost:8080/"
        },
        "id": "i05JPfRnnyNr",
        "outputId": "b4841510-54cf-4e50-aa81-cf1ae283dc47"
      },
      "source": [
        "lower=30746.250000-(1.5*30746.250000)"
      ],
      "execution_count": null,
      "outputs": [
        {
          "output_type": "execute_result",
          "data": {
            "text/plain": [
              "-15373.125"
            ]
          },
          "metadata": {
            "tags": []
          },
          "execution_count": 46
        }
      ]
    }
  ]
}